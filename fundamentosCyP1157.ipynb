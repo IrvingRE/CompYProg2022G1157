{
  "nbformat": 4,
  "nbformat_minor": 0,
  "metadata": {
    "colab": {
      "name": "fundamentosCyP1157.ipynb",
      "provenance": [],
      "authorship_tag": "ABX9TyNXvnqFpIxIk9EbXfKm2GkO",
      "include_colab_link": true
    },
    "kernelspec": {
      "name": "python3",
      "display_name": "Python 3"
    },
    "language_info": {
      "name": "python"
    }
  },
  "cells": [
    {
      "cell_type": "markdown",
      "metadata": {
        "id": "view-in-github",
        "colab_type": "text"
      },
      "source": [
        "<a href=\"https://colab.research.google.com/github/IrvingRE/CompYProg2022G1157/blob/main/fundamentosCyP1157.ipynb\" target=\"_parent\"><img src=\"https://colab.research.google.com/assets/colab-badge.svg\" alt=\"Open In Colab\"/></a>"
      ]
    },
    {
      "cell_type": "markdown",
      "metadata": {
        "id": "yylAZyMqXBnz"
      },
      "source": [
        "12/10/2021\n"
      ]
    },
    {
      "cell_type": "code",
      "metadata": {
        "colab": {
          "base_uri": "https://localhost:8080/"
        },
        "id": "hjKlUnSJUBpy",
        "outputId": "5795dac5-29e5-4d4d-9e99-e06cb9e4ffc2"
      },
      "source": [
        "import sys \n",
        "nombre= 'irving' #Tipo de dato String  (cadena de caracteres)\n",
        "\n",
        "print (nombre)\n",
        "\n"
      ],
      "execution_count": 1,
      "outputs": [
        {
          "output_type": "stream",
          "name": "stdout",
          "text": [
            "irving\n"
          ]
        }
      ]
    },
    {
      "cell_type": "markdown",
      "metadata": {
        "id": "oQSE2GG4WcYX"
      },
      "source": [
        "Tipo de dato en Phyton\n"
      ]
    },
    {
      "cell_type": "code",
      "metadata": {
        "colab": {
          "base_uri": "https://localhost:8080/"
        },
        "id": "ScKIgBb0XauI",
        "outputId": "ff5b0ffd-0a77-48be-91da-4037f0cfb807"
      },
      "source": [
        "import sys\n",
        "edad = 19\n",
        "print (\"Tu edad es:\", edad) # al final de una linea de codigo\n",
        "#Este es un comentario de liena simple\n",
        "\n",
        "\"\"\"\n",
        "Comentario de multiple linea \n",
        "En leguaje C, C++ y Java el comentario de multiple lunes es con /* ..... */ \n",
        "\n",
        "En lenguaje C, C++ y Java el comentario de una sola linea es con:\n",
        "\n",
        "//\n",
        "\n",
        "Aqui puedes explicar en prosa el segmento de una codigo para futura \n",
        "\"\"\"\n",
        "\n",
        "#Tipos de dato numerico int y float\n",
        "# El tipo de dato INT utiliza diferente cantidad de bits segun el\n",
        "# lenguaje de programacion por ejemplo en C se utiliza  16 bits.\n",
        "print (sys.getsizeof(edad))\n",
        "\n",
        "edad = edad + 1 \n",
        "print (edad)\n",
        "\n",
        "estatura = 1.56 \n",
        "print (sys.getsizeof(estatura))\n",
        "estatura = estatura + .1 \n",
        "print (estatura)\n",
        "print ( round(estatura,2))\n",
        "\n",
        "edad += 1 #edad = edad + 1\n",
        "print (\"Tu edad es:\", edad)\n",
        "\n",
        "edad -= 1 #edad = edad + 1\n",
        "print (\"Tu edad es:\", edad)\n",
        "\n",
        "edad += 1\n",
        "edad /= 2 #edad = edad / 2\n",
        "print (\"La mitad de tu edad es:\", edad)\n",
        "\n",
        "edad  = 21\n",
        "#volver a calcular la mitad de la edad pero solo dejar\n",
        "#parte  entera \n",
        "edad = edad//2 \n",
        "print (\"La mitad de tu edad es:\", edad) \n",
        "\n",
        "#La mayoria de los lenguajes de programacion no permite operaciones entre \n",
        "#diferentes tipos de datos, en phyton no es el caso \n",
        "\n",
        "numero = edad / 2.0\n",
        "print(numero)\n",
        "\n",
        "numero = numero *3\n",
        "print(numero)\n",
        "\n",
        "numero = 5.0\n",
        "numero = numero **2\n",
        "print (numero)"
      ],
      "execution_count": 2,
      "outputs": [
        {
          "output_type": "stream",
          "name": "stdout",
          "text": [
            "Tu edad es: 19\n",
            "28\n",
            "20\n",
            "24\n",
            "1.6600000000000001\n",
            "1.66\n",
            "Tu edad es: 21\n",
            "Tu edad es: 20\n",
            "La mitad de tu edad es: 10.5\n",
            "La mitad de tu edad es: 10\n",
            "5.0\n",
            "15.0\n",
            "25.0\n"
          ]
        }
      ]
    },
    {
      "cell_type": "code",
      "metadata": {
        "colab": {
          "base_uri": "https://localhost:8080/"
        },
        "id": "38AvjKOHX-fT",
        "outputId": "e371501f-3288-48f6-fa3b-805c48185ed7"
      },
      "source": [
        "#operador modulo \n",
        "numero = 21\n",
        "print (numero/2)\n",
        "print(numero//2)\n",
        "\n",
        "#El operador modulo da como resultado el residuo de una divison entera\n",
        "print(numero%2)\n",
        "\n",
        "numero = 24 \n",
        "print (\"Residuo de 24 / 5: \", numero % 5 )\n",
        "\n",
        "print (\"24 es par? = \", numero% 2 == 0)\n",
        "\n",
        "#diferencia\n",
        "print ( \"24 es diferente de 23 = \", numero !=23)\n",
        "print (\"24 es mayor que 23\", numero>23)\n",
        "print (\"24 es menor que 23\", numero<23)\n",
        "\n",
        "print (\"24 es menor o igual que 24\", numero>=24)\n",
        "print (\"24 es menor o igual que 23\", numero<23)\n",
        "\n",
        "print(\"El tipo de dato de la var numero es:\", type(numero))\n",
        "print(\"El tipo de dato de la var numero es:\", type(numero/2.0))"
      ],
      "execution_count": 3,
      "outputs": [
        {
          "output_type": "stream",
          "name": "stdout",
          "text": [
            "10.5\n",
            "10\n",
            "1\n",
            "Residuo de 24 / 5:  4\n",
            "24 es par? =  True\n",
            "24 es diferente de 23 =  True\n",
            "24 es mayor que 23 True\n",
            "24 es menor que 23 False\n",
            "24 es menor o igual que 24 True\n",
            "24 es menor o igual que 23 False\n",
            "El tipo de dato de la var numero es: <class 'int'>\n",
            "El tipo de dato de la var numero es: <class 'float'>\n"
          ]
        }
      ]
    },
    {
      "cell_type": "code",
      "metadata": {
        "colab": {
          "base_uri": "https://localhost:8080/"
        },
        "id": "EQJdXrWlYSFS",
        "outputId": "0ecdae9e-e400-481b-d0b1-2e6f1c78c88a"
      },
      "source": [
        "nombre = \"irving\"\n",
        "carrera = \"ingenieria en computacion \"\n",
        "frase = \"\"\"El conocimiento me persigue,...\n",
        "pero\n",
        "yo soy mas rapido \n",
        "\"\"\"\n",
        "print (nombre)\n",
        "print(carrera)\n",
        "print(frase)\n",
        "\n",
        "#La funcion type de Phyton  te devuelve el tipo de dato de una variable (o e)\n",
        "print (type(nombre))\n",
        "\n",
        "paterno = str (\"macedo\")\n",
        "print (paterno)"
      ],
      "execution_count": 4,
      "outputs": [
        {
          "output_type": "stream",
          "name": "stdout",
          "text": [
            "irving\n",
            "ingenieria en computacion \n",
            "El conocimiento me persigue,...\n",
            "pero\n",
            "yo soy mas rapido \n",
            "\n",
            "<class 'str'>\n",
            "macedo\n"
          ]
        }
      ]
    }
  ]
}