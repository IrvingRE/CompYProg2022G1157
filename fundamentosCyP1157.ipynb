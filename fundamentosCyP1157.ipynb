{
  "nbformat": 4,
  "nbformat_minor": 0,
  "metadata": {
    "colab": {
      "name": "fundamentosCyP1157.ipynb",
      "provenance": [],
      "authorship_tag": "ABX9TyPbSVUvXHN9TTK0gJhlCFmp",
      "include_colab_link": true
    },
    "kernelspec": {
      "name": "python3",
      "display_name": "Python 3"
    },
    "language_info": {
      "name": "python"
    }
  },
  "cells": [
    {
      "cell_type": "markdown",
      "metadata": {
        "id": "view-in-github",
        "colab_type": "text"
      },
      "source": [
        "<a href=\"https://colab.research.google.com/github/IrvingRE/CompYProg2022G1157/blob/main/fundamentosCyP1157.ipynb\" target=\"_parent\"><img src=\"https://colab.research.google.com/assets/colab-badge.svg\" alt=\"Open In Colab\"/></a>"
      ]
    },
    {
      "cell_type": "markdown",
      "metadata": {
        "id": "yylAZyMqXBnz"
      },
      "source": [
        "12/10/2021\n"
      ]
    },
    {
      "cell_type": "code",
      "metadata": {
        "colab": {
          "base_uri": "https://localhost:8080/"
        },
        "id": "hjKlUnSJUBpy",
        "outputId": "5795dac5-29e5-4d4d-9e99-e06cb9e4ffc2"
      },
      "source": [
        "import sys \n",
        "nombre= 'irving' #Tipo de dato String  (cadena de caracteres)\n",
        "\n",
        "print (nombre)\n",
        "\n"
      ],
      "execution_count": null,
      "outputs": [
        {
          "output_type": "stream",
          "name": "stdout",
          "text": [
            "irving\n"
          ]
        }
      ]
    },
    {
      "cell_type": "markdown",
      "metadata": {
        "id": "oQSE2GG4WcYX"
      },
      "source": [
        "Tipo de dato en Phyton\n"
      ]
    },
    {
      "cell_type": "code",
      "metadata": {
        "colab": {
          "base_uri": "https://localhost:8080/"
        },
        "id": "ScKIgBb0XauI",
        "outputId": "ff5b0ffd-0a77-48be-91da-4037f0cfb807"
      },
      "source": [
        "import sys\n",
        "edad = 19\n",
        "print (\"Tu edad es:\", edad) # al final de una linea de codigo\n",
        "#Este es un comentario de liena simple\n",
        "\n",
        "\"\"\"\n",
        "Comentario de multiple linea \n",
        "En leguaje C, C++ y Java el comentario de multiple lunes es con /* ..... */ \n",
        "\n",
        "En lenguaje C, C++ y Java el comentario de una sola linea es con:\n",
        "\n",
        "//\n",
        "\n",
        "Aqui puedes explicar en prosa el segmento de una codigo para futura \n",
        "\"\"\"\n",
        "\n",
        "#Tipos de dato numerico int y float\n",
        "# El tipo de dato INT utiliza diferente cantidad de bits segun el\n",
        "# lenguaje de programacion por ejemplo en C se utiliza  16 bits.\n",
        "print (sys.getsizeof(edad))\n",
        "\n",
        "edad = edad + 1 \n",
        "print (edad)\n",
        "\n",
        "estatura = 1.56 \n",
        "print (sys.getsizeof(estatura))\n",
        "estatura = estatura + .1 \n",
        "print (estatura)\n",
        "print ( round(estatura,2))\n",
        "\n",
        "edad += 1 #edad = edad + 1\n",
        "print (\"Tu edad es:\", edad)\n",
        "\n",
        "edad -= 1 #edad = edad + 1\n",
        "print (\"Tu edad es:\", edad)\n",
        "\n",
        "edad += 1\n",
        "edad /= 2 #edad = edad / 2\n",
        "print (\"La mitad de tu edad es:\", edad)\n",
        "\n",
        "edad  = 21\n",
        "#volver a calcular la mitad de la edad pero solo dejar\n",
        "#parte  entera \n",
        "edad = edad//2 \n",
        "print (\"La mitad de tu edad es:\", edad) \n",
        "\n",
        "#La mayoria de los lenguajes de programacion no permite operaciones entre \n",
        "#diferentes tipos de datos, en phyton no es el caso \n",
        "\n",
        "numero = edad / 2.0\n",
        "print(numero)\n",
        "\n",
        "numero = numero *3\n",
        "print(numero)\n",
        "\n",
        "numero = 5.0\n",
        "numero = numero **2\n",
        "print (numero)"
      ],
      "execution_count": null,
      "outputs": [
        {
          "output_type": "stream",
          "name": "stdout",
          "text": [
            "Tu edad es: 19\n",
            "28\n",
            "20\n",
            "24\n",
            "1.6600000000000001\n",
            "1.66\n",
            "Tu edad es: 21\n",
            "Tu edad es: 20\n",
            "La mitad de tu edad es: 10.5\n",
            "La mitad de tu edad es: 10\n",
            "5.0\n",
            "15.0\n",
            "25.0\n"
          ]
        }
      ]
    },
    {
      "cell_type": "code",
      "metadata": {
        "colab": {
          "base_uri": "https://localhost:8080/"
        },
        "id": "38AvjKOHX-fT",
        "outputId": "e371501f-3288-48f6-fa3b-805c48185ed7"
      },
      "source": [
        "#operador modulo \n",
        "numero = 21\n",
        "print (numero/2)\n",
        "print(numero//2)\n",
        "\n",
        "#El operador modulo da como resultado el residuo de una divison entera\n",
        "print(numero%2)\n",
        "\n",
        "numero = 24 \n",
        "print (\"Residuo de 24 / 5: \", numero % 5 )\n",
        "\n",
        "print (\"24 es par? = \", numero% 2 == 0)\n",
        "\n",
        "#diferencia\n",
        "print ( \"24 es diferente de 23 = \", numero !=23)\n",
        "print (\"24 es mayor que 23\", numero>23)\n",
        "print (\"24 es menor que 23\", numero<23)\n",
        "\n",
        "print (\"24 es menor o igual que 24\", numero>=24)\n",
        "print (\"24 es menor o igual que 23\", numero<23)\n",
        "\n",
        "print(\"El tipo de dato de la var numero es:\", type(numero))\n",
        "print(\"El tipo de dato de la var numero es:\", type(numero/2.0))"
      ],
      "execution_count": null,
      "outputs": [
        {
          "output_type": "stream",
          "name": "stdout",
          "text": [
            "10.5\n",
            "10\n",
            "1\n",
            "Residuo de 24 / 5:  4\n",
            "24 es par? =  True\n",
            "24 es diferente de 23 =  True\n",
            "24 es mayor que 23 True\n",
            "24 es menor que 23 False\n",
            "24 es menor o igual que 24 True\n",
            "24 es menor o igual que 23 False\n",
            "El tipo de dato de la var numero es: <class 'int'>\n",
            "El tipo de dato de la var numero es: <class 'float'>\n"
          ]
        }
      ]
    },
    {
      "cell_type": "code",
      "metadata": {
        "colab": {
          "base_uri": "https://localhost:8080/"
        },
        "id": "EQJdXrWlYSFS",
        "outputId": "0ecdae9e-e400-481b-d0b1-2e6f1c78c88a"
      },
      "source": [
        "nombre = \"irving\"\n",
        "carrera = \"ingenieria en computacion \"\n",
        "frase = \"\"\"El conocimiento me persigue,...\n",
        "pero\n",
        "yo soy mas rapido \n",
        "\"\"\"\n",
        "print (nombre)\n",
        "print(carrera)\n",
        "print(frase)\n",
        "\n",
        "#La funcion type de Phyton  te devuelve el tipo de dato de una variable (o e)\n",
        "print (type(nombre))\n",
        "\n",
        "paterno = str (\"macedo\")\n",
        "print (paterno)"
      ],
      "execution_count": null,
      "outputs": [
        {
          "output_type": "stream",
          "name": "stdout",
          "text": [
            "irving\n",
            "ingenieria en computacion \n",
            "El conocimiento me persigue,...\n",
            "pero\n",
            "yo soy mas rapido \n",
            "\n",
            "<class 'str'>\n",
            "macedo\n"
          ]
        }
      ]
    },
    {
      "cell_type": "markdown",
      "metadata": {
        "id": "eFGNfhtB_BHQ"
      },
      "source": [
        "**14/10/2021**"
      ]
    },
    {
      "cell_type": "markdown",
      "metadata": {
        "id": "9Sy5IooVphbX"
      },
      "source": [
        "Una clase (class) es un tipo de compuesto"
      ]
    },
    {
      "cell_type": "code",
      "metadata": {
        "id": "PW8XzEkup1P9"
      },
      "source": [
        "carrera= \"Ingenieria en computación\"\n",
        "print(carrera)\n",
        "print(carrera [2])\n"
      ],
      "execution_count": null,
      "outputs": []
    },
    {
      "cell_type": "markdown",
      "metadata": {
        "id": "fNk4najKrren"
      },
      "source": [
        "# a la sintaxis escrita para elegir un elemento de datos se le llama selector.\n",
        "En el caso de Strings y listas (lts) se usan los caracteres ´[´y´]´\n",
        "1. En todos los lenguajes los arreglos inician en 0.\n",
        "2. En python no existe como tal el tipo de dato arreglo, el concepto es sustituido por las listas.\n",
        "3. Los strings se comportan como un arreglo en la mayoria de los lenguajes.\n",
        "4. En python se acepta en indexado negativo, en otros lenguajes NO."
      ]
    },
    {
      "cell_type": "code",
      "metadata": {
        "id": "-mlS8Rk7s-FY",
        "colab": {
          "base_uri": "https://localhost:8080/"
        },
        "outputId": "bfeb02a7-0963-4054-d4dc-fc47dbc96ed0"
      },
      "source": [
        "carrera= \"Ingenieria en computación\"\n",
        "print(carrera[5])\n",
        "print(carrera[-1])"
      ],
      "execution_count": null,
      "outputs": [
        {
          "output_type": "stream",
          "name": "stdout",
          "text": [
            "i\n",
            "n\n"
          ]
        }
      ]
    },
    {
      "cell_type": "markdown",
      "metadata": {
        "id": "gpxWqxRtu-Dz"
      },
      "source": [
        "# Slicing (rebanado) de cadenas\n",
        "Permite seleccionar subcadenas con el operador \n",
        "### [inicio: stop: incremento] \n",
        "El stop no se incluye, es por eso que debemos agregar una posición extra.\n",
        "\n",
        "### Slicing y valores por defecto.\n",
        "\n",
        "inicio por defecto siempre será 0\n",
        "el stop será: tamaño del arreglo(indexado positivo)\n",
        "              0(en un indexado negativo)\n",
        "\n",
        "incremento: es 1(indexado positivo)             "
      ]
    },
    {
      "cell_type": "code",
      "metadata": {
        "id": "d2SkpQ1HvWnm",
        "colab": {
          "base_uri": "https://localhost:8080/"
        },
        "outputId": "bd93bff6-f775-45ae-a45f-b126557ac647"
      },
      "source": [
        "carrera= \"Ingenieria en computación\"\n",
        "print(carrera[0:10:1])\n",
        "print(carrera[14:25:1])\n",
        "print(carrera[0:10:1])\n",
        "\n",
        "\n",
        "#Un ejercicio más para ver incremento \n",
        "print(carrera[14:25:-1])\n",
        "print(carrera[0:10:2])\n",
        "print(carrera[-1:-12:-1])"
      ],
      "execution_count": null,
      "outputs": [
        {
          "output_type": "stream",
          "name": "stdout",
          "text": [
            "Ingenieria\n",
            "computación\n",
            "Ingenieria\n",
            "\n",
            "Ignei\n",
            "nóicatupmoc\n"
          ]
        }
      ]
    },
    {
      "cell_type": "markdown",
      "metadata": {
        "id": "bFwDkYXU0zI3"
      },
      "source": [
        "#String y sus métodos\n",
        "#Todos los tipos de datos en python son objetos (CLASES de la Programacion Oientada a Objetos,POO)\n",
        "###Lo cual significa que tiene atributos y métodos.\n",
        "\n",
        "###dir() y help() funciones para obtener ayuda del lenguaje Python\n",
        "\n",
        "###dir muestra las funciones de un tipo de dato como resumen\n",
        "\n",
        "###help muestra la misma ayuda pero a detalle \n",
        "\n",
        "###Metodos que inician con doble guión bajo son privados de uso interno de la clase y no deberiamos usarlos \n",
        "\n"
      ]
    },
    {
      "cell_type": "code",
      "metadata": {
        "id": "MzON6RKQ1JVR",
        "colab": {
          "base_uri": "https://localhost:8080/"
        },
        "outputId": "74df1924-7883-4188-ceee-5ca40b5a02e6"
      },
      "source": [
        "frutas= \" limon, fresa, manzana, aguacate\"\n",
        "nombre= \"jose\"\n",
        "print(frutas)\n",
        "dir(frutas)\n",
        "\n",
        "print( nombre.capitalize() )\n",
        "print( nombre.upper() )\n",
        "print(frutas.replace(\"a\", \"4\").upper() )\n",
        "frutas= \"limon , fresa , manzana , aguacate\"\n",
        "print(frutas.strip() )\n",
        "print(frutas.split(\",\") )\n",
        "print(frutas.index(\"m\") )\n"
      ],
      "execution_count": null,
      "outputs": [
        {
          "output_type": "stream",
          "name": "stdout",
          "text": [
            " limon, fresa, manzana, aguacate\n",
            "Jose\n",
            "JOSE\n",
            " LIMON, FRES4, M4NZ4N4, 4GU4C4TE\n",
            "limon , fresa , manzana , aguacate\n",
            "['limon ', ' fresa ', ' manzana ', ' aguacate']\n",
            "2\n"
          ]
        }
      ]
    },
    {
      "cell_type": "markdown",
      "metadata": {
        "id": "l4O-Nr-h8blX"
      },
      "source": [
        "#String y caracteres  de escape\n",
        "\"Jose\"\n",
        "- \\\" ---> \"\n",
        "- \\´ ---> ´\n",
        "- \\n --> Salto de línea(tecla enter)\n",
        "- \\t -> tabulador espacios a la izq.\n",
        "- \\uxxxx-> Caracteres unicode 16 bits(2 bytes)\n",
        "- \\Uxxxxxx->unicode extendido 4 bytes\n"
      ]
    },
    {
      "cell_type": "code",
      "metadata": {
        "id": "wykp4al88bNV",
        "colab": {
          "base_uri": "https://localhost:8080/"
        },
        "outputId": "47b75c69-dd93-4416-c66c-85cb7ed8099c"
      },
      "source": [
        "print(\" \\\"jose\\\" \")\n",
        "nombre= \" \\\"jose\\\" \"\n",
        "print(nombre)\n",
        "carrera= \" Ingeniería \\n\\ten \\n\\t\\tcomputacion\"\n",
        "print(carrera)\n",
        "\n",
        "print(\"\\u0444\")\n",
        "print(\"\\U0001F970\")\n",
        "print(\"\\U00010057\")\n",
        "print(\"\\U0001F9A0\")"
      ],
      "execution_count": null,
      "outputs": [
        {
          "output_type": "stream",
          "name": "stdout",
          "text": [
            " \"jose\" \n",
            " \"jose\" \n",
            " Ingeniería \n",
            "\ten \n",
            "\t\tcomputacion\n",
            "ф\n",
            "🥰\n",
            "𐁗\n",
            "🦠\n"
          ]
        }
      ]
    },
    {
      "cell_type": "markdown",
      "metadata": {
        "id": "EV1v2gF8yR5r"
      },
      "source": [
        "# Función print\n",
        "\n",
        "### Se emplea para desplegar información en la salida estandar. Normalmente un monitor.\n",
        "\n",
        "- Formas de usar print\n",
        "- El argunmento por defecto de print(end)\n",
        "- format()\n",
        "- operador f\"\""
      ]
    },
    {
      "cell_type": "code",
      "metadata": {
        "id": "DD-MkuLoygEX",
        "colab": {
          "base_uri": "https://localhost:8080/"
        },
        "outputId": "7f79235a-886b-442f-d1be-7a039ce6424a"
      },
      "source": [
        "nombre= \"Jose\"\n",
        "edad= 18\n",
        "casado= False\n",
        "estatura= 1.67\n",
        "\n",
        "#1.- Con comas; concatena haciendo un casting(conversión)\n",
        "#agrega un espacio\n",
        "print( nombre,edad,casado,estatura)\n",
        "\n",
        "#2.- con el simbolo de \"+\"; concatenación en crudo \n",
        "#se tienen que poner también los espacios \"+ \" \" + \"\n",
        "# cambiar a str los no str con \"str()\"\n",
        "print( nombre+ \" \" +str(edad) + \" \" +str(casado) + \" \" +str(estatura) )\n",
        "\n",
        "#3.- dando formato a la salida con format \n",
        "print(\"\\nCon la función format()\")\n",
        "print(\"Nombre: {}\\n\\tEdad: {}\\n\\tEsta casado: {}\\n\\testatura en metros: {}\".format(nombre,edad,casado,estatura))\n",
        "\n",
        "#4.- con el operador f\" \"\n",
        "print(\"Con el operador f\\\" \\\"\")\n",
        "print(f\"Nombre: {nombre}\\n\\tEdad: {edad}\\n\\tEsta casado: {casado}\\n\\testatura en metros: {estatura}\")\n",
        "#Como manejar el argumento end \n",
        "print(f\"Hola {nombre}\" , end= \"\" )\n",
        "print((\", Como estas?\") , end=\"\\n\")"
      ],
      "execution_count": null,
      "outputs": [
        {
          "output_type": "stream",
          "name": "stdout",
          "text": [
            "Jose 18 False 1.67\n",
            "Jose 18 False 1.67\n",
            "\n",
            "Con la función format()\n",
            "Nombre: Jose\n",
            "\tEdad: 18\n",
            "\tEsta casado: False\n",
            "\testatura en metros: 1.67\n",
            "Con el operador f\" \"\n",
            "Nombre: Jose\n",
            "\tEdad: 18\n",
            "\tEsta casado: False\n",
            "\testatura en metros: 1.67\n",
            "Hola Jose, Como estas?\n"
          ]
        }
      ]
    },
    {
      "cell_type": "markdown",
      "metadata": {
        "id": "wUzj6VL27Dub"
      },
      "source": [
        "#con una sola funcion POR LETRA print, escribir su primer nombre( nombre de pila) de la siguiente forma\n",
        "\n",
        "K        K\n",
        "K      K\n",
        "K    K\n",
        "K  K\n",
        "K K\n",
        "K  K\n",
        "K   K\n",
        "K     K\n",
        "\n",
        "  A\n",
        " A  A\n",
        "AAAAAA  \n",
        "A    A\n",
        "A    A"
      ]
    },
    {
      "cell_type": "markdown",
      "metadata": {
        "id": "T0a5zF4jBLWa"
      },
      "source": [
        "# datos de entrada \n",
        "\n",
        "Para solicitad los datos del usuario se emplea la función input. La cual regresa siempre un tipo de dato string"
      ]
    },
    {
      "cell_type": "code",
      "metadata": {
        "id": "A27w1HBBBdcQ",
        "outputId": "73d4d81a-0ec6-40b8-ebf5-b93859d5659f",
        "colab": {
          "base_uri": "https://localhost:8080/"
        }
      },
      "source": [
        "nombre= input(\"Ingresa tu nombre\")\n",
        "print(\"Tecleaste:\", nombre)"
      ],
      "execution_count": 1,
      "outputs": [
        {
          "output_type": "stream",
          "name": "stdout",
          "text": [
            "Ingresa tu nombretorito\n",
            "Tecleaste: torito\n"
          ]
        }
      ]
    },
    {
      "cell_type": "markdown",
      "metadata": {
        "id": "oHkvDXLCB7NN"
      },
      "source": [
        "# ¿Cómo capturar datos numericos?\n",
        "\n",
        "Para ello se hace una conversión entre tipos...\n",
        "casting... consiste en llamar al constructor de la clase deseada. \n",
        "\n",
        "## Ejemplo convertir el string \"2\" en número \n",
        "### num = int(\"2\")\n"
      ]
    },
    {
      "cell_type": "code",
      "metadata": {
        "id": "WAWvkdkCCdCW",
        "outputId": "937ff1ac-fc81-41bf-c0ec-8700ad6cf0d5",
        "colab": {
          "base_uri": "https://localhost:8080/"
        }
      },
      "source": [
        "entrada= input(\"Dame tu edad:\")\n",
        "edad= int(entrada)\n",
        "edad+=1 # edad=edad+1\n",
        "print(\"Tu edad es:\", edad)\n"
      ],
      "execution_count": 4,
      "outputs": [
        {
          "output_type": "stream",
          "name": "stdout",
          "text": [
            "Dame tu edad:2\n",
            "Tu edad es: 3\n"
          ]
        }
      ]
    },
    {
      "cell_type": "code",
      "metadata": {
        "id": "ikd1SzXpC9DH",
        "outputId": "03edfcfa-a024-4c88-dca5-a6f3caf28b5c",
        "colab": {
          "base_uri": "https://localhost:8080/"
        }
      },
      "source": [
        "#lo mismo pero con menos codigo\n",
        "\n",
        "edad= int(input(\"Dame tu edad:\"))\n",
        "print(\"Tu edad es:\", edad+1)"
      ],
      "execution_count": 6,
      "outputs": [
        {
          "output_type": "stream",
          "name": "stdout",
          "text": [
            "Dame tu edad:4\n",
            "Tu edad es: 5\n"
          ]
        }
      ]
    },
    {
      "cell_type": "code",
      "metadata": {
        "id": "Gq_KtyH0DWJN",
        "outputId": "f090b7be-3f2c-4d98-eb38-8803563544be",
        "colab": {
          "base_uri": "https://localhost:8080/"
        }
      },
      "source": [
        "estatura=float(input(\"Dame tu estatura:\"))\n",
        "print(\"Tu estatura es:\", estatura+0.1)"
      ],
      "execution_count": 12,
      "outputs": [
        {
          "output_type": "stream",
          "name": "stdout",
          "text": [
            "Dame tu estatura:1.67\n",
            "Tu estatura es: 1.77\n"
          ]
        }
      ]
    },
    {
      "cell_type": "code",
      "metadata": {
        "id": "lh7a2p1gESoW",
        "outputId": "05a576bc-fdd5-40eb-f051-042aa12d60d3",
        "colab": {
          "base_uri": "https://localhost:8080/"
        }
      },
      "source": [
        "# input de booleans\n",
        "\n",
        "casado = bool(int(input(\"Soltero (0) casado(1):\")))\n",
        "print(\"casado\", casado)"
      ],
      "execution_count": 15,
      "outputs": [
        {
          "output_type": "stream",
          "name": "stdout",
          "text": [
            "Soltero (0) casado(1):0\n",
            "casado False\n"
          ]
        }
      ]
    }
  ]
}