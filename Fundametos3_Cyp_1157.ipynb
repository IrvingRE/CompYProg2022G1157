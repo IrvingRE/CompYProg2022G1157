{
  "nbformat": 4,
  "nbformat_minor": 0,
  "metadata": {
    "colab": {
      "name": "Fundametos3_Cyp_1157.ipynb",
      "provenance": [],
      "authorship_tag": "ABX9TyNThnU1wktgUf4PeMOo5aEL",
      "include_colab_link": true
    },
    "kernelspec": {
      "name": "python3",
      "display_name": "Python 3"
    },
    "language_info": {
      "name": "python"
    }
  },
  "cells": [
    {
      "cell_type": "markdown",
      "metadata": {
        "id": "view-in-github",
        "colab_type": "text"
      },
      "source": [
        "<a href=\"https://colab.research.google.com/github/IrvingRE/CompYProg2022G1157/blob/main/Fundametos3_Cyp_1157.ipynb\" target=\"_parent\"><img src=\"https://colab.research.google.com/assets/colab-badge.svg\" alt=\"Open In Colab\"/></a>"
      ]
    },
    {
      "cell_type": "markdown",
      "metadata": {
        "id": "dziSj74yFuQW"
      },
      "source": [
        "3. Repetición:\n",
        "          - Este tipo de estructura nos permite automatizar la ejecución\n",
        "           repetitiva de código mientras ciertas condiciones se cumplan,\n",
        "            tenemos 3 variantes de esta estructura en todos los lenguajes de\n",
        "             programación: \n",
        "          - Desde...hasta (estructura for)\n",
        "          - Haz mientras(estrutura While)\n",
        "          - Haz y luego validaz mientras(estructura Do-While)\n"
      ]
    },
    {
      "cell_type": "code",
      "metadata": {
        "colab": {
          "base_uri": "https://localhost:8080/"
        },
        "id": "ecPolyG8FZPj",
        "outputId": "42d16047-73cb-48f7-b20d-ee99cd6b6acb"
      },
      "source": [
        "# función range()\n",
        "# range (<INICIO>, <STOP>, <INCREMENTO>)\n",
        "x= range (0,10,2)\n",
        "print(x)\n",
        "\n",
        "for j in range(10): # range(0,10) --> 0,1,2,3,4,5,6,7,8,9\n",
        "    print(f\"Hola {j}\")\n",
        "\n",
        "print(\"-.-.-.-.-.\")\n",
        "for j in range(0,10,2): # range(0,10,2) --> 0,2,4,6,8\n",
        "    print(f\"Hola {j}\")\n",
        "\n",
        "frutas= [\"Uva\" , \"aguacate\", \"pera\", \"manzana\" , \"sandia\"]\n",
        "\n",
        "print(\"---Frutas---\")\n",
        "for index in range(5):\n",
        "    print(frutas[index])\n"
      ],
      "execution_count": null,
      "outputs": [
        {
          "output_type": "stream",
          "name": "stdout",
          "text": [
            "range(0, 10, 2)\n",
            "Hola 0\n",
            "Hola 1\n",
            "Hola 2\n",
            "Hola 3\n",
            "Hola 4\n",
            "Hola 5\n",
            "Hola 6\n",
            "Hola 7\n",
            "Hola 8\n",
            "Hola 9\n",
            "-.-.-.-.-.\n",
            "Hola 0\n",
            "Hola 2\n",
            "Hola 4\n",
            "Hola 6\n",
            "Hola 8\n",
            "---Frutas---\n",
            "Uva\n",
            "aguacate\n",
            "pera\n",
            "manzana\n",
            "sandia\n"
          ]
        }
      ]
    },
    {
      "cell_type": "code",
      "metadata": {
        "colab": {
          "base_uri": "https://localhost:8080/"
        },
        "id": "qbFAISH8MERw",
        "outputId": "5ea41ba4-76da-499f-9c95-f4b802f3e09a"
      },
      "source": [
        "for i in range(5):\n",
        "    print(\"+++++\")\n",
        "    "
      ],
      "execution_count": null,
      "outputs": [
        {
          "output_type": "stream",
          "name": "stdout",
          "text": [
            "+++++\n",
            "+++++\n",
            "+++++\n",
            "+++++\n",
            "+++++\n"
          ]
        }
      ]
    },
    {
      "cell_type": "code",
      "metadata": {
        "id": "Z3rzV4qdMGKS",
        "outputId": "63b73e62-d749-4dd6-c7e7-017eb4b59763",
        "colab": {
          "base_uri": "https://localhost:8080/"
        }
      },
      "source": [
        "for x in range(1, 20, 1):\n",
        "    print(x)\n",
        "print(\"Fin del programa\")\n",
        "\n",
        "for x in range(19, 0, -1):\n",
        "    print(x)\n",
        "print(\"Fin del programa\")"
      ],
      "execution_count": 1,
      "outputs": [
        {
          "output_type": "stream",
          "name": "stdout",
          "text": [
            "1\n",
            "2\n",
            "3\n",
            "4\n",
            "5\n",
            "6\n",
            "7\n",
            "8\n",
            "9\n",
            "10\n",
            "11\n",
            "12\n",
            "13\n",
            "14\n",
            "15\n",
            "16\n",
            "17\n",
            "18\n",
            "19\n",
            "Fin del programa\n",
            "19\n",
            "18\n",
            "17\n",
            "16\n",
            "15\n",
            "14\n",
            "13\n",
            "12\n",
            "11\n",
            "10\n",
            "9\n",
            "8\n",
            "7\n",
            "6\n",
            "5\n",
            "4\n",
            "3\n",
            "2\n",
            "1\n",
            "Fin del programa\n"
          ]
        }
      ]
    },
    {
      "cell_type": "code",
      "metadata": {
        "id": "FLMnc6v6MixL",
        "outputId": "53771818-3e39-478a-8597-5c8248bd66c1",
        "colab": {
          "base_uri": "https://localhost:8080/"
        }
      },
      "source": [
        "#ejemplo 3.3\n",
        "CUECER= 0\n",
        "NUM=0\n",
        "N= int(input(\"un valor numero mayor a 1: \"))\n",
        "for I in range(1, N+1, 1 ):\n",
        "    N= int(input(\"un valor numero mayor a : \"))\n",
        "    if N==0:\n",
        "        CUECER+=1\n",
        "    \n",
        "print(\"CUECER=\", CUECER)"
      ],
      "execution_count": 6,
      "outputs": [
        {
          "output_type": "stream",
          "name": "stdout",
          "text": [
            "un valor numero mayor a 14\n",
            "un valor numero mayor a 10\n",
            "un valor numero mayor a 10\n",
            "un valor numero mayor a 11\n",
            "un valor numero mayor a 11\n",
            "CUECER= 2\n"
          ]
        }
      ]
    },
    {
      "cell_type": "code",
      "metadata": {
        "id": "iSzTEUcnQ3sY",
        "outputId": "976011ee-38c0-4bda-86dc-cb2e26d96b05",
        "colab": {
          "base_uri": "https://localhost:8080/"
        }
      },
      "source": [
        "for f in range(1,11): \n",
        "    print(f\"7 * {f} = {7 * f}\")\n",
        "print(f) "
      ],
      "execution_count": 8,
      "outputs": [
        {
          "output_type": "stream",
          "name": "stdout",
          "text": [
            "7 * 1 = 7\n",
            "7 * 2 = 14\n",
            "7 * 3 = 21\n",
            "7 * 4 = 28\n",
            "7 * 5 = 35\n",
            "7 * 6 = 42\n",
            "7 * 7 = 49\n",
            "7 * 8 = 56\n",
            "7 * 9 = 63\n",
            "7 * 10 = 70\n",
            "10\n"
          ]
        }
      ]
    },
    {
      "cell_type": "code",
      "metadata": {
        "id": "pMmsg_fHR7d-",
        "outputId": "bddff634-0ca5-448a-f2e5-89f2a3634d41",
        "colab": {
          "base_uri": "https://localhost:8080/"
        }
      },
      "source": [
        "N1= int(input(\"Dame un número entre 1 y 5:\"))\n",
        "if N1> 0 and N1<=5:\n",
        "    N2= int(input(f\"Dame un número entre {N1} y 10:\"))\n",
        "    if N2>=N1 and N2<=10:\n",
        "        for i in range(N1, N2+1):\n",
        "            for j in range(1,11):\n",
        "                print(f\"{i} x {j} =\", i*j)\n",
        "            print(\"---------\")\n"
      ],
      "execution_count": 16,
      "outputs": [
        {
          "output_type": "stream",
          "name": "stdout",
          "text": [
            "Dame un número entre 1 y 5:4\n",
            "Dame un número entre 4 y 10:9\n",
            "4 x 1 = 4\n",
            "4 x 2 = 8\n",
            "4 x 3 = 12\n",
            "4 x 4 = 16\n",
            "4 x 5 = 20\n",
            "4 x 6 = 24\n",
            "4 x 7 = 28\n",
            "4 x 8 = 32\n",
            "4 x 9 = 36\n",
            "4 x 10 = 40\n",
            "---------\n",
            "5 x 1 = 5\n",
            "5 x 2 = 10\n",
            "5 x 3 = 15\n",
            "5 x 4 = 20\n",
            "5 x 5 = 25\n",
            "5 x 6 = 30\n",
            "5 x 7 = 35\n",
            "5 x 8 = 40\n",
            "5 x 9 = 45\n",
            "5 x 10 = 50\n",
            "---------\n",
            "6 x 1 = 6\n",
            "6 x 2 = 12\n",
            "6 x 3 = 18\n",
            "6 x 4 = 24\n",
            "6 x 5 = 30\n",
            "6 x 6 = 36\n",
            "6 x 7 = 42\n",
            "6 x 8 = 48\n",
            "6 x 9 = 54\n",
            "6 x 10 = 60\n",
            "---------\n",
            "7 x 1 = 7\n",
            "7 x 2 = 14\n",
            "7 x 3 = 21\n",
            "7 x 4 = 28\n",
            "7 x 5 = 35\n",
            "7 x 6 = 42\n",
            "7 x 7 = 49\n",
            "7 x 8 = 56\n",
            "7 x 9 = 63\n",
            "7 x 10 = 70\n",
            "---------\n",
            "8 x 1 = 8\n",
            "8 x 2 = 16\n",
            "8 x 3 = 24\n",
            "8 x 4 = 32\n",
            "8 x 5 = 40\n",
            "8 x 6 = 48\n",
            "8 x 7 = 56\n",
            "8 x 8 = 64\n",
            "8 x 9 = 72\n",
            "8 x 10 = 80\n",
            "---------\n",
            "9 x 1 = 9\n",
            "9 x 2 = 18\n",
            "9 x 3 = 27\n",
            "9 x 4 = 36\n",
            "9 x 5 = 45\n",
            "9 x 6 = 54\n",
            "9 x 7 = 63\n",
            "9 x 8 = 72\n",
            "9 x 9 = 81\n",
            "9 x 10 = 90\n",
            "---------\n"
          ]
        }
      ]
    },
    {
      "cell_type": "code",
      "metadata": {
        "id": "Iyvbl4L3UaU6"
      },
      "source": [
        "N1=int(input('ingresa un valor entre 1 y 5: '))\n",
        "\n",
        "if N1>0 and N1<6:\n",
        "    N2=int(input(f'ingresa un valor entre el {N1} y 10: '))\n",
        "    if N2>= N1 and N2<11:\n",
        "\n",
        "        for i in range( N1, N2+1):\n",
        "            for j in range(0,11):\n",
        "                print(f\"{i} x {j} = \", i*j)\n",
        "    \n",
        "    else:\n",
        "        print('El valor ingresado no esta dentro del rango')\n",
        "else:\n",
        "    print('El valor ingresado no esta dentro del rango')"
      ],
      "execution_count": null,
      "outputs": []
    },
    {
      "cell_type": "markdown",
      "metadata": {
        "id": "efS8HHbZWjzF"
      },
      "source": [
        "# generadores de listas \n",
        "es un notacion especial de python que permite crear una lista con tamaño especifico "
      ]
    },
    {
      "cell_type": "code",
      "metadata": {
        "id": "3douUmUdW7qk"
      },
      "source": [
        "numeros=[0 for x in range(5)]\n",
        "print(numeros)\n",
        "\n",
        "#empleando la variable de control x para el valor inicial\n",
        "numeros=[ x for x in range(5)]\n",
        "print(numeros)\n",
        "\n",
        "numeros=[ x for x in range(10,101,10)]\n",
        "print(numeros)\n",
        "\n",
        "numeros=[ x*10  for x in range(1,11)]\n",
        "print(numeros)\n"
      ],
      "execution_count": null,
      "outputs": []
    },
    {
      "cell_type": "code",
      "metadata": {
        "id": "y1j0lmkTYQWu",
        "outputId": "043a3848-ac30-4770-99cf-20c075ef29b3",
        "colab": {
          "base_uri": "https://localhost:8080/"
        }
      },
      "source": [
        "#ejercicio calcular promedio de edades \n",
        "suma=0\n",
        "edades=[0 for x in range(5)]\n",
        "for x in range(5):\n",
        "    edades[x]=int(input(\"Dame una edad: \"))\n",
        "    suma=suma+edades[x]\n",
        "print(edades)\n",
        "print(\"promedio: \", suma/5)"
      ],
      "execution_count": 31,
      "outputs": [
        {
          "output_type": "stream",
          "name": "stdout",
          "text": [
            "Dame una edad: 48\n",
            "Dame una edad: 95\n",
            "Dame una edad: 6\n",
            "Dame una edad: 2\n",
            "Dame una edad: 35\n",
            "[48, 95, 6, 2, 35]\n",
            "promedio:  37.2\n"
          ]
        }
      ]
    },
    {
      "cell_type": "code",
      "metadata": {
        "id": "ah4MkaqncVy0",
        "outputId": "dc395f5a-47d7-4bcc-b324-51845755b3c0",
        "colab": {
          "base_uri": "https://localhost:8080/"
        }
      },
      "source": [
        "import random\n",
        "print(random.random())\n",
        "print(random.uniform(5,11))\n",
        "\n",
        "\n",
        "valores= [round(random.uniform(5,11),2) for x in range(20)]\n",
        "print(valores)"
      ],
      "execution_count": 36,
      "outputs": [
        {
          "output_type": "stream",
          "name": "stdout",
          "text": [
            "0.994232287533418\n",
            "7.9687079446729125\n",
            "[10.61, 9.54, 6.55, 7.17, 7.87, 7.52, 5.43, 6.88, 7.97, 6.4, 8.88, 7.52, 6.76, 5.67, 10.34, 9.9, 9.11, 6.28, 10.72, 6.64]\n"
          ]
        }
      ]
    },
    {
      "cell_type": "code",
      "metadata": {
        "id": "1qwiRVsAdyRg",
        "outputId": "8017ac8a-84d3-408e-fed3-c8b3c9695398",
        "colab": {
          "base_uri": "https://localhost:8080/"
        }
      },
      "source": [
        "import random\n",
        "print(random.random())\n",
        "print(random.uniform(5,11))\n",
        "val = round(random.uniform(5,11) , 2)\n",
        "print(val)\n",
        "\n",
        "valores = [round(random.uniform(5,11),2) for x in range(20)]\n",
        "print(valores)"
      ],
      "execution_count": 37,
      "outputs": [
        {
          "output_type": "stream",
          "name": "stdout",
          "text": [
            "0.794677251820264\n",
            "8.453700986329999\n",
            "6.03\n",
            "[8.05, 8.73, 7.26, 10.93, 6.79, 9.0, 6.5, 5.22, 10.89, 7.71, 5.77, 10.87, 6.47, 7.07, 10.87, 8.4, 6.34, 6.08, 6.01, 7.89]\n"
          ]
        }
      ]
    },
    {
      "cell_type": "markdown",
      "metadata": {
        "id": "vjyLHXR5dzcZ"
      },
      "source": [
        "encontrar el numeri menor y el mayor y el promedio de la lista de valores"
      ]
    }
  ]
}