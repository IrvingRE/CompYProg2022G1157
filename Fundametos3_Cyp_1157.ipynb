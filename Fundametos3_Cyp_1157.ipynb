{
  "nbformat": 4,
  "nbformat_minor": 0,
  "metadata": {
    "colab": {
      "name": "Fundametos3_Cyp_1157.ipynb",
      "provenance": [],
      "authorship_tag": "ABX9TyNVA7z4ID67ndsuXuAmToeL",
      "include_colab_link": true
    },
    "kernelspec": {
      "name": "python3",
      "display_name": "Python 3"
    },
    "language_info": {
      "name": "python"
    }
  },
  "cells": [
    {
      "cell_type": "markdown",
      "metadata": {
        "id": "view-in-github",
        "colab_type": "text"
      },
      "source": [
        "<a href=\"https://colab.research.google.com/github/IrvingRE/CompYProg2022G1157/blob/main/Fundametos3_Cyp_1157.ipynb\" target=\"_parent\"><img src=\"https://colab.research.google.com/assets/colab-badge.svg\" alt=\"Open In Colab\"/></a>"
      ]
    },
    {
      "cell_type": "markdown",
      "metadata": {
        "id": "dziSj74yFuQW"
      },
      "source": [
        "3. Repetición:\n",
        "          - Este tipo de estructura nos permite automatizar la ejecución\n",
        "           repetitiva de código mientras ciertas condiciones se cumplan,\n",
        "            tenemos 3 variantes de esta estructura en todos los lenguajes de\n",
        "             programación: \n",
        "          - Desde...hasta (estructura for)\n",
        "          - Haz mientras(estrutura While)\n",
        "          - Haz y luego validaz mientras(estructura Do-While)\n"
      ]
    },
    {
      "cell_type": "code",
      "metadata": {
        "colab": {
          "base_uri": "https://localhost:8080/"
        },
        "id": "ecPolyG8FZPj",
        "outputId": "42d16047-73cb-48f7-b20d-ee99cd6b6acb"
      },
      "source": [
        "# función range()\n",
        "# range (<INICIO>, <STOP>, <INCREMENTO>)\n",
        "x= range (0,10,2)\n",
        "print(x)\n",
        "\n",
        "for j in range(10): # range(0,10) --> 0,1,2,3,4,5,6,7,8,9\n",
        "    print(f\"Hola {j}\")\n",
        "\n",
        "print(\"-.-.-.-.-.\")\n",
        "for j in range(0,10,2): # range(0,10,2) --> 0,2,4,6,8\n",
        "    print(f\"Hola {j}\")\n",
        "\n",
        "frutas= [\"Uva\" , \"aguacate\", \"pera\", \"manzana\" , \"sandia\"]\n",
        "\n",
        "print(\"---Frutas---\")\n",
        "for index in range(5):\n",
        "    print(frutas[index])\n"
      ],
      "execution_count": 2,
      "outputs": [
        {
          "output_type": "stream",
          "name": "stdout",
          "text": [
            "range(0, 10, 2)\n",
            "Hola 0\n",
            "Hola 1\n",
            "Hola 2\n",
            "Hola 3\n",
            "Hola 4\n",
            "Hola 5\n",
            "Hola 6\n",
            "Hola 7\n",
            "Hola 8\n",
            "Hola 9\n",
            "-.-.-.-.-.\n",
            "Hola 0\n",
            "Hola 2\n",
            "Hola 4\n",
            "Hola 6\n",
            "Hola 8\n",
            "---Frutas---\n",
            "Uva\n",
            "aguacate\n",
            "pera\n",
            "manzana\n",
            "sandia\n"
          ]
        }
      ]
    },
    {
      "cell_type": "code",
      "metadata": {
        "colab": {
          "base_uri": "https://localhost:8080/"
        },
        "id": "qbFAISH8MERw",
        "outputId": "5ea41ba4-76da-499f-9c95-f4b802f3e09a"
      },
      "source": [
        "for i in range(5):\n",
        "    print(\"+++++\")\n",
        "    "
      ],
      "execution_count": 3,
      "outputs": [
        {
          "output_type": "stream",
          "name": "stdout",
          "text": [
            "+++++\n",
            "+++++\n",
            "+++++\n",
            "+++++\n",
            "+++++\n"
          ]
        }
      ]
    }
  ]
}