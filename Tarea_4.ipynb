{
  "nbformat": 4,
  "nbformat_minor": 0,
  "metadata": {
    "colab": {
      "name": "Tarea 4.ipynb",
      "provenance": [],
      "authorship_tag": "ABX9TyPOxsCmaBuJGaxN4uifoeAx",
      "include_colab_link": true
    },
    "kernelspec": {
      "name": "python3",
      "display_name": "Python 3"
    },
    "language_info": {
      "name": "python"
    }
  },
  "cells": [
    {
      "cell_type": "markdown",
      "metadata": {
        "id": "view-in-github",
        "colab_type": "text"
      },
      "source": [
        "<a href=\"https://colab.research.google.com/github/IrvingRE/CompYProg2022G1157/blob/main/Tarea_4.ipynb\" target=\"_parent\"><img src=\"https://colab.research.google.com/assets/colab-badge.svg\" alt=\"Open In Colab\"/></a>"
      ]
    },
    {
      "cell_type": "code",
      "metadata": {
        "colab": {
          "base_uri": "https://localhost:8080/"
        },
        "id": "rsJJXIwumkUO",
        "outputId": "5e720639-f6a9-4e56-c405-06e04b005448"
      },
      "source": [
        "print(\"\\n\\t IIIII  RRRR   V       V  IIIII  N     N  GGGGGG\\n\\t   I    R   R   V     V     I    N N   N  G\\n\\t   I    R RR     V   V      I    N  N  N  G  GGG\\n\\t   I    R  R      V V       I    N   N N  G    G\\n\\t IIIII  R  R       V      IIIII  N     N  GGGGGG\")"
      ],
      "execution_count": 86,
      "outputs": [
        {
          "output_type": "stream",
          "name": "stdout",
          "text": [
            "\n",
            "\t IIIII  RRRR   V       V  IIIII  N     N  GGGGGG\n",
            "\t   I    R   R   V     V     I    N N   N  G\n",
            "\t   I    R RR     V   V      I    N  N  N  G  GGG\n",
            "\t   I    R  R      V V       I    N   N N  G    G\n",
            "\t IIIII  R  R       V      IIIII  N     N  GGGGGG\n"
          ]
        }
      ]
    }
  ]
}