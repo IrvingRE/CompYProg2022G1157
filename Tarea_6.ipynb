{
  "nbformat": 4,
  "nbformat_minor": 0,
  "metadata": {
    "colab": {
      "name": "Tarea 6.ipynb",
      "provenance": [],
      "authorship_tag": "ABX9TyPh8C/PbJCO5VNAZix9+Kfy",
      "include_colab_link": true
    },
    "kernelspec": {
      "name": "python3",
      "display_name": "Python 3"
    },
    "language_info": {
      "name": "python"
    }
  },
  "cells": [
    {
      "cell_type": "markdown",
      "metadata": {
        "id": "view-in-github",
        "colab_type": "text"
      },
      "source": [
        "<a href=\"https://colab.research.google.com/github/IrvingRE/CompYProg2022G1157/blob/main/Tarea_6.ipynb\" target=\"_parent\"><img src=\"https://colab.research.google.com/assets/colab-badge.svg\" alt=\"Open In Colab\"/></a>"
      ]
    },
    {
      "cell_type": "markdown",
      "metadata": {
        "id": "PcajmNmpUr3C"
      },
      "source": [
        "###Problema 2.1\n",
        "\n",
        "El número de sonidos emitidos por un grillo en un minuto, es una función de la \n",
        "temperatura. Como resultado de esto, es posible determinar el nivel de la tempe­ratura haciendo uso de un grillito como termómetro.\n",
        "\n",
        "\n"
      ]
    },
    {
      "cell_type": "code",
      "metadata": {
        "colab": {
          "base_uri": "https://localhost:8080/"
        },
        "id": "ocw-g-ayUlH4",
        "outputId": "e14fc6c8-c0b1-4d5d-95ca-2ca03b6e64cd"
      },
      "source": [
        "N= int(input(\"Dame el número de sonidos emitidos en un minuto: \"))\n",
        "T= 0 \n",
        "if N>0:\n",
        "    T=N/4+40\n",
        "    print(f\"La temperatura es: {T}\")\n",
        "    print(\"Fin del programa\")\n",
        "else:\n",
        "    print(\"Fin del programa\")"
      ],
      "execution_count": null,
      "outputs": [
        {
          "output_type": "stream",
          "name": "stdout",
          "text": [
            "Dame el número de sonidos emitidos en un minuto: -8\n",
            "Fin del programa\n"
          ]
        }
      ]
    },
    {
      "cell_type": "markdown",
      "metadata": {
        "id": "w09lX1hYlriW"
      },
      "source": [
        "### Problema 2.2\n",
        "\n",
        "Construya un diagrama de flujo tal que dado como datos los valores enteros P y \n",
        "Q, determine si los mismos satisfacen la siguiente expresión:\n",
        "P**3  +  Q**4- 2*P**2  <  680\n",
        ".\n",
        "#En caso afirmativo debe imprimir los valores P y Q."
      ]
    },
    {
      "cell_type": "code",
      "metadata": {
        "colab": {
          "base_uri": "https://localhost:8080/"
        },
        "id": "nWWPpDj0mLBU",
        "outputId": "969ff620-63f2-4fba-c122-11c79c6c3f3c"
      },
      "source": [
        "P=int(input(\"Dame un valor entero: \"))\n",
        "Q=int(input(\"Dame otro valor entero: \"))\n",
        "EXP=P**3+Q**4-2*P**2\n",
        "print(EXP)\n",
        "if EXP<680:    \n",
        "    print(f\"Los valores P:{P} y Q:{Q}, si satisfacen la expresión. \")\n",
        "    print(\"Fin del programa\")\n",
        "else:\n",
        "    print(\"Fin del programa\")"
      ],
      "execution_count": null,
      "outputs": [
        {
          "output_type": "stream",
          "name": "stdout",
          "text": [
            "Dame un valor entero: 5\n",
            "Dame otro valor entero: 2\n",
            "91\n",
            "Los valores P:5 y Q:2, si satisfacen la expresión. \n",
            "Fin del programa\n"
          ]
        }
      ]
    },
    {
      "cell_type": "markdown",
      "metadata": {
        "id": "TZxaIMPG_0iT"
      },
      "source": [
        "### Problema 2.3\n",
        "\n",
        "Las raíces reales de la expresión ax2 +bx+c=0 se obtienen a través de la fórmula:\n",
        "```\n",
        "x=(-b+-sqrt(b**2-4*a*c))/2a\n",
        "```\n",
        "\n",
        "Haga el diagrama de  flujo para calcular las raíces reales,  de ser posible,  de \n",
        "una ecuación de segundo grado."
      ]
    },
    {
      "cell_type": "code",
      "metadata": {
        "colab": {
          "base_uri": "https://localhost:8080/"
        },
        "id": "BA1cGeK9ERC1",
        "outputId": "3d5c611d-23e4-4b88-88a3-c4727b777053"
      },
      "source": [
        "A=float(input(\"Dame un valor de tipo real diferente a 0: \"))\n",
        "if A!=0:\n",
        "    B=float(input(\"Dame un valor de tipo real: \"))\n",
        "    C=float(input(\"Dame un valor de tipo real: \"))\n",
        "    DIS=B**2-4*A*C\n",
        "    print(DIS)\n",
        "    if DIS>0:\n",
        "        X1=((-B)+DIS**0.5)/(2*A)\n",
        "        X2=((-B)-DIS**0.5)/(2*A)\n",
        "        print(f\"Raíces reales X1: {X1} , X2:{X2} \" )\n",
        "        print(\"Fin del programa\")\n",
        "    else:\n",
        "        print(\"Fin del programa\")\n",
        "else:\n",
        "    print(\"Se necesita un valor diferente a 0 en A, vuelve a intentar\")"
      ],
      "execution_count": null,
      "outputs": [
        {
          "output_type": "stream",
          "name": "stdout",
          "text": [
            "Dame un valor de tipo real diferente a 0: 3\n",
            "Dame un valor de tipo real: 9\n",
            "Dame un valor de tipo real: 1.5\n",
            "63.0\n",
            "Raíces reales X1: -0.17712434446770464 , X2:-2.8228756555322954 \n",
            "Fin del programa\n"
          ]
        }
      ]
    },
    {
      "cell_type": "markdown",
      "metadata": {
        "id": "zKpK_CR4Sd12"
      },
      "source": [
        "###Problema 2.4\n",
        "\n",
        "Construya un diagrama de flujo tal que dado como datos la matrícula y 5 califica­\n",
        "ciones de un alumno; imprima la matrícula, el promedio y la palabra “aprobado” \n",
        "si el alumno tiene un promedio mayor o igual que 6, y la palabra “no aprobado” \n",
        "en caso contrario."
      ]
    },
    {
      "cell_type": "code",
      "metadata": {
        "colab": {
          "base_uri": "https://localhost:8080/"
        },
        "id": "XPEHdHjkS8KS",
        "outputId": "9103bc26-efb1-4fd8-df36-e3f67bafc4e2"
      },
      "source": [
        "MAT=int(input(\"Dame la matricula del alumno: \"))\n",
        "CAL1=float(input(\"Dame la calificación del alumno: \"))\n",
        "CAL2=float(input(\"Dame la calificación del alumno: \"))\n",
        "CAL3=float(input(\"Dame la calificación del alumno: \"))\n",
        "CAL4=float(input(\"Dame la calificación del alumno: \"))\n",
        "CAL5=float(input(\"Dame la calificación del alumno: \"))\n",
        "PRO=(CAL1+CAL2+CAL3+CAL4+CAL5)/5\n",
        "if PRO>=6:\n",
        "     print(f\"Matricula: {MAT}, Promedio: {PRO}, APROBADO\")\n",
        "else:\n",
        "    print(f\"Matricula: {MAT}, Promedio: {PRO}, NO APROBADO\")\n",
        "print(\"Fin del programa\")"
      ],
      "execution_count": 29,
      "outputs": [
        {
          "output_type": "stream",
          "name": "stdout",
          "text": [
            "Dame la matricula del alumno: 5255\n",
            "Dame la calificación del alumno: 4\n",
            "Dame la calificación del alumno: 9\n",
            "Dame la calificación del alumno: 4\n",
            "Dame la calificación del alumno: 6\n",
            "Dame la calificación del alumno: 10\n",
            "Matricula: 5255, Promedio: 6.6, APROBADO\n",
            "Fin del programa\n"
          ]
        }
      ]
    },
    {
      "cell_type": "markdown",
      "metadata": {
        "id": "PKoyBUX6YFIV"
      },
      "source": [
        "###Problema 2.5\n",
        "\n",
        "Construya un diagrama de flujo tal que dado como dato un número entero, de­termine e imprima si el mismo es positivo, negativo o nulo.\n"
      ]
    },
    {
      "cell_type": "code",
      "metadata": {
        "colab": {
          "base_uri": "https://localhost:8080/"
        },
        "id": "Ens6dqbFYSAT",
        "outputId": "b3fbc7fc-5f5a-42ca-c065-26998e32b635"
      },
      "source": [
        "NUM=int(input(\"Dame un numero entero: \"))\n",
        "if NUM>0:\n",
        "    print(\"Positivo\")\n",
        "elif NUM==0:\n",
        "    print(\"Nulo\")\n",
        "else:\n",
        "    print(\"Negativo\")\n",
        "print(\"Fin del programa\")    "
      ],
      "execution_count": null,
      "outputs": [
        {
          "output_type": "stream",
          "name": "stdout",
          "text": [
            "Dame un numero entero: 8\n",
            "Positivo\n",
            "Fin del programa\n"
          ]
        }
      ]
    },
    {
      "cell_type": "markdown",
      "metadata": {
        "id": "Totnia2xaNB-"
      },
      "source": [
        "###Problema 2.6\n",
        "Dado un número entero A, haga un diagrama de flujo para determinar si el mismo es par, impar o nulo."
      ]
    },
    {
      "cell_type": "code",
      "metadata": {
        "colab": {
          "base_uri": "https://localhost:8080/"
        },
        "id": "fjsn4nQWaxSj",
        "outputId": "a2adaa63-fb4b-4c37-87b6-3de2c2fb2554"
      },
      "source": [
        "A=int(input(\"Dame un numero entero: \"))\n",
        "if A==0:\n",
        "    print(\"Nulo\")\n",
        "elif A%2==0:\n",
        "    print(\"Par\")\n",
        "else:\n",
        "    print(\"Impar\")\n",
        "print(\"Fin del programa\")\n"
      ],
      "execution_count": 28,
      "outputs": [
        {
          "output_type": "stream",
          "name": "stdout",
          "text": [
            "Dame un numero entero: 26\n",
            "Par\n",
            "Fin del programa\n"
          ]
        }
      ]
    },
    {
      "cell_type": "markdown",
      "metadata": {
        "id": "EuFEhazPfhc3"
      },
      "source": [
        "#Problema 2.7\n",
        "\n",
        "Construya un diagrama de flujo tal que dado como datos de entrada tres núme­ros enteros, determine si los mismos están en orden creciente."
      ]
    },
    {
      "cell_type": "code",
      "metadata": {
        "colab": {
          "base_uri": "https://localhost:8080/"
        },
        "id": "GSwtsS8hgwbs",
        "outputId": "39719986-84b5-453d-fd30-c1c8111e2df7"
      },
      "source": [
        "A= int(input(\"Dame un primer numero entero:\"))\n",
        "B= int(input(\"Dame un segundo numero entero:\"))\n",
        "C= int(input(\"Dame un tercer numero entero:\"))\n",
        "if A==B:\n",
        "    print(\"Se necesitan numeros diferentes entre sí, vuelva a intentarlo\")\n",
        "\n",
        "elif A==C:\n",
        "    print(\"Se necesitan numeros diferentes entre sí, vuelva a intentarlo\")\n",
        "\n",
        "elif B==C:\n",
        "    print(\"Se necesitan numeros diferentes entre sí, vuelva a intentarlo\")\n",
        "\n",
        "elif B==A:\n",
        "    print(\"Se necesitan numeros diferentes entre sí, vuelva a intentarlo\")\n",
        "\n",
        "elif C==A:\n",
        "    print(\"Se necesita numeros diferentes entre sí, vuelva a intentarlo\")\n",
        "\n",
        "elif C==B:\n",
        "    print(\"Se necesita numeros diferentes entre sí, vuelva a intentarlo\")\n",
        "\n",
        "elif A==B==C:\n",
        "    print(\"Se necesitan numeros diferentes entre sí, vuelva a intentarlo\")\n",
        "\n",
        "elif A<B:\n",
        "    if B<C:\n",
        "        print(\"Los números están en orden creciente\")\n",
        "    else:\n",
        "        print(\"Los números no están en orden creciente\")\n",
        "else:\n",
        "        print(\"Los números no están en orden creciente\")        \n",
        "print(\"Fin del programa\")"
      ],
      "execution_count": null,
      "outputs": [
        {
          "output_type": "stream",
          "name": "stdout",
          "text": [
            "Dame un primer numero entero:5\n",
            "Dame un segundo numero entero:6\n",
            "Dame un tercer numero entero:7\n",
            "Los números están en orden creciente\n",
            "Fin del programa\n"
          ]
        }
      ]
    },
    {
      "cell_type": "markdown",
      "metadata": {
        "id": "bUzfcja67hZh"
      },
      "source": [
        "###Problema 2.8\n",
        "En una tienda efectúan un descuento a los clientes dependiendo del monto de la \n",
        "compra. El descuento se efectúa con base en el siguiente criterio:\n",
        "\n",
        "```\n",
        "Si el monto es menor que $500, no hay descuento.\n",
        "Si el monto está comprendido entre $500 y $1000, hay un 5% de descuento.\n",
        "Si el monto está comprendido entre $1000 y $7000, hay un 11% de descuento.\n",
        "Si el monto está comprendido entre $7000 y $15000, hay un 18% de descuento.\n",
        "Si el monto es mayor a $15000, hay un 25% de descuento.\n",
        "``` \n"
      ]
    },
    {
      "cell_type": "code",
      "metadata": {
        "colab": {
          "base_uri": "https://localhost:8080/"
        },
        "id": "dPfsIYM3TQ5H",
        "outputId": "0063bcc3-f22f-4753-e32a-43d50f9067d5"
      },
      "source": [
        "COMPRA=float(input(\"¿De cuanto es su monto de compra?: \"))\n",
        "PAGAR=0\n",
        "if COMPRA<500:\n",
        "    PAGAR= COMPRA\n",
        "    print(f\"{PAGAR} Es el monto que debe pagar.\")\n",
        "elif COMPRA<=1000:\n",
        "    PAGAR=round(COMPRA-(COMPRA*0.05),2)\n",
        "    print(f\"{PAGAR} Es el monto que debe pagar.\")\n",
        "elif COMPRA<=7000:\n",
        "    PAGAR=round(COMPRA-(COMPRA*0.11),2)\n",
        "    print(f\"{PAGAR} Es el monto que debe pagar.\")\n",
        "elif COMPRA<=15000:\n",
        "    PAGAR=round(COMPRA-(COMPRA*0.18),2)\n",
        "    print(f\"{PAGAR} Es el monto que debe pagar.\")\n",
        "elif COMPRA>15000:\n",
        "    PAGAR=round(COMPRA-(COMPRA*0.25),2)\n",
        "    print(f\"{PAGAR} Es el monto que debe pagar.\")\n",
        "\n",
        "print(\"Fin de su compra\")    "
      ],
      "execution_count": null,
      "outputs": [
        {
          "output_type": "stream",
          "name": "stdout",
          "text": [
            "¿De cuanto es su monto de compra?: 895.80\n",
            "851.01 Es el monto que debe pagar.\n",
            "Fin de su compra\n"
          ]
        }
      ]
    },
    {
      "cell_type": "markdown",
      "metadata": {
        "id": "VDUAi8bsY_oW"
      },
      "source": [
        "### Problema 2.9\n",
        "\n",
        "En un cierto país el impuesto que se debe pagar por los artículos se calcula me­diante la siguiente regla:\n",
        "```\n",
        "Los primeros $20 no causan impuesto, \n",
        "los siguientes $20 tienen el 30% de impuesto y el resto el 40% de impuesto,\n",
        "pero si el costo del pro­ducto es mayor a $500, entonces en lugar del 40% se cobra el 50%.\n",
        "```\n",
        "Diseñe un diagrama de flujo que lea el costo básico de un artículo y calcule su \n",
        "precio total (precio total  = precio básico  +  impuesto).\n"
      ]
    },
    {
      "cell_type": "code",
      "metadata": {
        "colab": {
          "base_uri": "https://localhost:8080/"
        },
        "id": "Qdlf4QiMZajq",
        "outputId": "4ed3de44-525e-46ea-9b5c-af63c6f8ed82"
      },
      "source": [
        "PREBAS=float(input(\"Dame el precio básico del producto: \"))\n",
        "IMP=0\n",
        "PRETOT=0\n",
        "if PREBAS>500:\n",
        "    IMP=round(20*0.30+(PREBAS-40)*0.50,2)\n",
        "    PRETOT= PREBAS+IMP\n",
        "    print(f\"El costo básico es de: {PREBAS}, el costo total o costo básico más impuestos es de: {PRETOT} \")\n",
        "elif PREBAS>40:\n",
        "    IMP=round(20*0.30+(PREBAS-40)*0.40,2)\n",
        "    PRETOT= PREBAS+IMP\n",
        "    print(f\"El costo básico es de: {PREBAS}, el costo total o costo básico más impuestos es de: {PRETOT} \")\n",
        "elif PREBAS>20:\n",
        "    IMP=round((PREBAS-20)*0.30,2)\n",
        "    PRETOT= PREBAS+IMP\n",
        "    print(f\"El costo básico es de: {PREBAS}, el costo total o costo básico más impuestos es de: {PRETOT} \")\n",
        "else:\n",
        "    IMP=0\n",
        "    PRETOT= PREBAS+IMP\n",
        "    print(f\"El costo básico es de: {PREBAS}, el costo total o costo básico más impuestos es de: {PRETOT} \")\n",
        "print(\"Fin del programa\")"
      ],
      "execution_count": null,
      "outputs": [
        {
          "output_type": "stream",
          "name": "stdout",
          "text": [
            "Dame el precio básico del producto: 527.50\n",
            "El costo básico es de: 527.5, el costo total o costo básico más impuestos es de: 777.25 \n",
            "Fin del programa\n"
          ]
        }
      ]
    },
    {
      "cell_type": "markdown",
      "metadata": {
        "id": "OXhnvtkfPk56"
      },
      "source": [
        "###Problema 2.10\n",
        "Dado  como  datos tres  números  reales,  identifique  cuál  es  el  mayor.  Considere \n",
        "que los números pueden ser iguales.  Desarrolle el diagrama de flujo correspon­\n",
        "diente."
      ]
    },
    {
      "cell_type": "code",
      "metadata": {
        "colab": {
          "base_uri": "https://localhost:8080/"
        },
        "id": "fltcgBrTP6lw",
        "outputId": "e6f01c9f-ea68-4632-bd14-47f9eea26401"
      },
      "source": [
        "A=float(input(\"Dame un valor numérico: \"))\n",
        "B=float(input(\"Dame un segundo valor numérico: \"))\n",
        "C=float(input(\"Dame un tercer valor numérico: \"))\n",
        "if A>B and A>C:\n",
        "    print(f\"{A} Es el numero mayor\")\n",
        "\n",
        "elif B>A and B>C:\n",
        "    print(f\"{B} Es el numero mayor\")\n",
        "    \n",
        "elif C>A and C>B:\n",
        "    print(f\"{C} Es el numero mayor\")\n",
        "\n",
        "elif A==B==C:\n",
        "    print(f\"Los valores A{A}, B{B} y C{C} son iguales\")\n",
        "\n",
        "elif A==B:\n",
        "    print(f\"Los valores A: {A} y B: {B} son iguales\")\n",
        "\n",
        "elif A==C:\n",
        "    print(f\"Los valores A: {A} y C: {C} son iguales\")\n",
        "\n",
        "elif B==C:\n",
        "    print(f\"Los valores B: {B} y C: {C} son iguales\")\n"
      ],
      "execution_count": 63,
      "outputs": [
        {
          "output_type": "stream",
          "name": "stdout",
          "text": [
            "Dame un valor numérico: 7\n",
            "Dame un segundo valor numérico: 7\n",
            "Dame un tercer valor numérico: 4\n",
            "Los valores A: 7.0 y B: 7.0 son iguales\n"
          ]
        }
      ]
    },
    {
      "cell_type": "markdown",
      "metadata": {
        "id": "YYEBCtQVf3wS"
      },
      "source": [
        "###Problema 2.11\n",
        "\n",
        "El costo de las llamadas telefónicas internacionales depende de la zona geográfi­ca en la que se encuentre el país destino y del número de minutos hablados. En la siguiente tabla se presenta el costo del minuto por zona. A cada zona se le ha aso­ciado una clave.\n",
        "```\n",
        "CLAVE       ZONA           PRECIO\n",
        "12      América del Horte    2\n",
        "15      América Central     2.2\n",
        "18      América del 5ur     4.5\n",
        "19         Europa           3.5\n",
        "23          Asia             6\n",
        "25         África            6\n",
        "29         Oceanía           5\n",
        "```\n",
        "Construya un diagrama de flujo que le permita calcular e imprimir el costo to­tal de una llamada.\n"
      ]
    },
    {
      "cell_type": "code",
      "metadata": {
        "colab": {
          "base_uri": "https://localhost:8080/"
        },
        "id": "Bx3PDFysh9lQ",
        "outputId": "155e9a8b-8faa-48ba-b794-0445c663d95a"
      },
      "source": [
        "CLAVE= int(input(\"¿Cuál es la clave de la zona geográfica a la que se llamó?\"))\n",
        "NUMIN=int(input(\"¿De cuantó fue la duración de la llamada en minutos?\"))\n",
        "COST=0\n",
        "if CLAVE==12:\n",
        "    COST=NUMIN*2\n",
        "    print(f\"Costo total de la llamada: {COST}\")\n",
        "elif CLAVE==15:\n",
        "    COST=NUMIN*2.2\n",
        "    print(f\"Costo total de la llamada: {COST}\")\n",
        "elif CLAVE==18:\n",
        "    COST=NUMIN*4.5\n",
        "    print(f\"Costo total de la llamada: {COST}\")\n",
        "elif CLAVE==19:\n",
        "    COST=NUMIN*3.5\n",
        "    print(f\"Costo total de la llamada: {COST}\")\n",
        "elif CLAVE==23 or CLAVE==25:\n",
        "    COST=NUMIN*6\n",
        "    print(f\"Costo total de la llamada: {COST}\")\n",
        "elif CLAVE==29:\n",
        "    COST=NUMIN*5\n",
        "    print(f\"Costo total de la llamada: {COST}\")\n",
        "print(\"Fin del programa\")"
      ],
      "execution_count": 38,
      "outputs": [
        {
          "output_type": "stream",
          "name": "stdout",
          "text": [
            "¿Cuál es la clave de la zona geográfica a la que se llamó?18\n",
            "¿De cuantó fue la duración de la llamada en minutos?12\n",
            "Costo total de la llamada: 54.0\n",
            "Fin del programa\n"
          ]
        }
      ]
    },
    {
      "cell_type": "markdown",
      "metadata": {
        "id": "Y4Xw4ndzpeDI"
      },
      "source": [
        "###Problema 2.12\n",
        "Escriba un diagrama de flujo que permita calcular lo que  hay que pagarle a un \n",
        "trabajador teniendo  en  cuenta  su  sueldo y  las  horas  extras  trabajadas.  Para el pago de horas extras se toma en cuenta la categoría del trabajador.\n",
        "```\n",
        "                 PRECIO\n",
        "CATEGORIA     HORA EXTRA\n",
        "   1             $30\n",
        "   2             $38\n",
        "   3             $50\n",
        "   4             $70\n",
        "```\n",
        "Cada trabajador puede  tener como  máximo 30  horas  extras,  si tienen  más \n",
        "sólo se les pagarán 30. A los trabajadores con categoría mayor a 4 no debemos \n",
        "pagarle horas extras."
      ]
    },
    {
      "cell_type": "code",
      "metadata": {
        "colab": {
          "base_uri": "https://localhost:8080/"
        },
        "id": "DTtXCUUPtyjt",
        "outputId": "27740d60-e8d0-4684-ed27-74671c2074af"
      },
      "source": [
        "SUE=float(input(\"Sueldo básico del trabajador: \"))\n",
        "CATE=int(input(\"¿Qué categoria es el trabajador?: \"))\n",
        "if 1<=CATE<=8:\n",
        "    HE=int(input(\"Las horas extras trabajadas por el trabajador son: \"))\n",
        "    PHE=0\n",
        "    NSUE=0\n",
        "    if CATE==1:\n",
        "        PHE=30\n",
        "        if HE>30:\n",
        "            NSUE=SUE+30*PHE\n",
        "        else: \n",
        "            NSUE=SUE+HE*PHE\n",
        "        print(f\"Lo que se le debe pagar al trabajador contando horas extra y su sueldo es: {NSUE}\")\n",
        "    elif CATE==2:\n",
        "        PHE=38\n",
        "        if HE>30:\n",
        "            NSUE=SUE+30*PHE\n",
        "        else: \n",
        "            NSUE=SUE+HE*PHE\n",
        "        print(f\"Lo que se le debe pagar al trabajador contando horas extra y su sueldo es: {NSUE}\")    \n",
        "    elif CATE==3:\n",
        "        PHE=50\n",
        "        if HE>30:\n",
        "            NSUE=SUE+30*PHE\n",
        "        else: \n",
        "            NSUE=SUE+HE*PHE\n",
        "        print(f\"Lo que se le debe pagar al trabajador contando horas extra y su sueldo es: {NSUE}\")\n",
        "    elif CATE==4:\n",
        "        PHE=70\n",
        "        if HE>30:\n",
        "            NSUE=SUE+30*PHE\n",
        "        else: \n",
        "            NSUE=SUE+HE*PHE\n",
        "        print(f\"Lo que se le debe pagar al trabajador contando horas extra y su sueldo es: {NSUE}\")\n",
        "    elif 5<=CATE<=8:\n",
        "        PHE=0\n",
        "        if HE>30:\n",
        "            NSUE=SUE+30*PHE\n",
        "        else: \n",
        "            NSUE=SUE+HE*PHE\n",
        "        print(f\"Lo que se le debe pagar al trabajador contando horas extra y su sueldo es: {NSUE}\")    \n",
        "else:\n",
        "    print(\"Se necesita un valor entre 1 a 8, vuelve a intentarlo\")"
      ],
      "execution_count": 43,
      "outputs": [
        {
          "output_type": "stream",
          "name": "stdout",
          "text": [
            "Sueldo básico del trabajador: 5800\n",
            "¿Qué categoria es el trabajador?: 5\n",
            "Las horas extras trabajadas por el trabajador son: 17\n",
            "Lo que se le debe pagar al trabajador contando horas extra y su sueldo es: 5800.0\n"
          ]
        }
      ]
    },
    {
      "cell_type": "markdown",
      "metadata": {
        "id": "T_xJ945w1kJ3"
      },
      "source": [
        "### Problema 2.13\n",
        "Construya  un  diagrama  de  flujo  tal  que  dado  como  datos  la  matricula  de un alumno, la carrera en la que está inscrito, su semestre y su promedio; determine si el mismo es apto para pertenecer a alguna de las facultades menores que tie­ne la universidad. Si el alumno es aceptado teniendo en cuenta las especificacio­nes  que  se  listan  abajo,  se  debe  imprimir su matrícula,  carrera  y  la  palabra “aceptado”.\n",
        "```\n",
        "Especificaciones para pertenecer a las facultades menores:\n",
        "Economía: Semestre  >= 6 y promedio  >=  8.8\n",
        "Computación: Semestre  > 6 y promedio >  8.5\n",
        "Administración: Semestre  > 5 y promedio >  8.5\n",
        "Contabilidad: Semestre  > 5 y promedio >  8.5\n",
        "```"
      ]
    },
    {
      "cell_type": "code",
      "metadata": {
        "colab": {
          "base_uri": "https://localhost:8080/"
        },
        "id": "IuzTJqJb4V0b",
        "outputId": "df168214-013c-4c8f-c026-278ba1e01b81"
      },
      "source": [
        "MAT=int(input(\"Dame la matricula del alumno: \"))\n",
        "CARR=str(input(\"Dame el nombre de la carrera: \"))\n",
        "SEM=int(input(\"Dime hasta que semetre tiene aprobado el alumno: \"))\n",
        "PROM=float(input(\"Dame el promedio del alumno: \"))\n",
        "if CARR==\"Economía\":\n",
        "    if SEM>=6 and PROM>=8.8:\n",
        "        print(f\"MAT:{MAT}, CARR: {CARR}, ACEPTADO\")\n",
        "    else:\n",
        "        print(\"Fin del programa\")\n",
        "elif CARR==\"Computación\":\n",
        "    if SEM>6 and PROM>8.5:\n",
        "        print(f\"MAT:{MAT}, CARR: {CARR}, ACEPTADO\")\n",
        "    else:\n",
        "        print(\"Fin del programa\")\n",
        "elif CARR==\"Administración\":\n",
        "    if SEM>5 and PROM>8.5:\n",
        "        print(f\"MAT:{MAT}, CARR: {CARR}, ACEPTADO\")\n",
        "    else:\n",
        "        print(\"Fin del programa\")\n",
        "elif CARR==\"Contabilidad\":\n",
        "    if SEM>5 and PROM>8.5:\n",
        "        print(f\"MAT:{MAT}, CARR: {CARR}, ACEPTADO\")\n",
        "    else:\n",
        "        print(\"Fin del programa\")\n",
        "\n"
      ],
      "execution_count": 78,
      "outputs": [
        {
          "output_type": "stream",
          "name": "stdout",
          "text": [
            "Dame la matricula del alumno: 25900\n",
            "Dame el nombre de la carrera: Contabilidad\n",
            "Dime hasta que semetre tiene aprobado el alumno: 7\n",
            "Dame el promedio del alumno: 9\n",
            "MAT:25900, CARR: Contabilidad, ACEPTADO\n"
          ]
        }
      ]
    }
  ]
}