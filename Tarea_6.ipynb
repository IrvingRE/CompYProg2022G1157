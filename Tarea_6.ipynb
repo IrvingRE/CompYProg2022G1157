{
  "nbformat": 4,
  "nbformat_minor": 0,
  "metadata": {
    "colab": {
      "name": "Tarea 6.ipynb",
      "provenance": [],
      "authorship_tag": "ABX9TyNxioZgMmMeMHM0wZvtQGb7",
      "include_colab_link": true
    },
    "kernelspec": {
      "name": "python3",
      "display_name": "Python 3"
    },
    "language_info": {
      "name": "python"
    }
  },
  "cells": [
    {
      "cell_type": "markdown",
      "metadata": {
        "id": "view-in-github",
        "colab_type": "text"
      },
      "source": [
        "<a href=\"https://colab.research.google.com/github/IrvingRE/CompYProg2022G1157/blob/main/Tarea_6.ipynb\" target=\"_parent\"><img src=\"https://colab.research.google.com/assets/colab-badge.svg\" alt=\"Open In Colab\"/></a>"
      ]
    },
    {
      "cell_type": "markdown",
      "metadata": {
        "id": "PcajmNmpUr3C"
      },
      "source": [
        "###Problema 2.1\n",
        "\n",
        "El número de sonidos emitidos por un grillo en un minuto, es una función de la \n",
        "temperatura. Como resultado de esto, es posible determinar el nivel de la tempe­ratura haciendo uso de un grillito como termómetro.\n",
        "\n",
        "\n"
      ]
    },
    {
      "cell_type": "code",
      "metadata": {
        "colab": {
          "base_uri": "https://localhost:8080/"
        },
        "id": "ocw-g-ayUlH4",
        "outputId": "e14fc6c8-c0b1-4d5d-95ca-2ca03b6e64cd"
      },
      "source": [
        "N= int(input(\"Dame el número de sonidos emitidos en un minuto: \"))\n",
        "T= 0 \n",
        "if N>0:\n",
        "    T=N/4+40\n",
        "    print(f\"La temperatura es: {T}\")\n",
        "    print(\"Fin del programa\")\n",
        "else:\n",
        "    print(\"Fin del programa\")"
      ],
      "execution_count": 19,
      "outputs": [
        {
          "output_type": "stream",
          "name": "stdout",
          "text": [
            "Dame el número de sonidos emitidos en un minuto: -8\n",
            "Fin del programa\n"
          ]
        }
      ]
    },
    {
      "cell_type": "markdown",
      "metadata": {
        "id": "w09lX1hYlriW"
      },
      "source": [
        "### Problema 2.2\n",
        "\n",
        "Construya un diagrama de flujo tal que dado como datos los valores enteros P y \n",
        "Q, determine si los mismos satisfacen la siguiente expresión:\n",
        "P**3  +  Q**4- 2*P**2  <  680\n",
        ".\n",
        "#En caso afirmativo debe imprimir los valores P y Q."
      ]
    },
    {
      "cell_type": "code",
      "metadata": {
        "colab": {
          "base_uri": "https://localhost:8080/"
        },
        "id": "nWWPpDj0mLBU",
        "outputId": "969ff620-63f2-4fba-c122-11c79c6c3f3c"
      },
      "source": [
        "P=int(input(\"Dame un valor entero: \"))\n",
        "Q=int(input(\"Dame otro valor entero: \"))\n",
        "EXP=P**3+Q**4-2*P**2\n",
        "print(EXP)\n",
        "if EXP<680:    \n",
        "    print(f\"Los valores P:{P} y Q:{Q}, si satisfacen la expresión. \")\n",
        "    print(\"Fin del programa\")\n",
        "else:\n",
        "    print(\"Fin del programa\")"
      ],
      "execution_count": 25,
      "outputs": [
        {
          "output_type": "stream",
          "name": "stdout",
          "text": [
            "Dame un valor entero: 5\n",
            "Dame otro valor entero: 2\n",
            "91\n",
            "Los valores P:5 y Q:2, si satisfacen la expresión. \n",
            "Fin del programa\n"
          ]
        }
      ]
    },
    {
      "cell_type": "markdown",
      "metadata": {
        "id": "TZxaIMPG_0iT"
      },
      "source": [
        "### Problema 2.3\n",
        "\n",
        "Las raíces reales de la expresión ax2 +bx+c=0 se obtienen a través de la fórmula:\n",
        "```\n",
        "x=(-b+-sqrt(b**2-4*a*c))/2a\n",
        "```\n",
        "\n",
        "Haga el diagrama de  flujo para calcular las raíces reales,  de ser posible,  de \n",
        "una ecuación de segundo grado."
      ]
    },
    {
      "cell_type": "code",
      "metadata": {
        "colab": {
          "base_uri": "https://localhost:8080/"
        },
        "id": "BA1cGeK9ERC1",
        "outputId": "3d5c611d-23e4-4b88-88a3-c4727b777053"
      },
      "source": [
        "A=float(input(\"Dame un valor de tipo real diferente a 0: \"))\n",
        "if A!=0:\n",
        "    B=float(input(\"Dame un valor de tipo real: \"))\n",
        "    C=float(input(\"Dame un valor de tipo real: \"))\n",
        "    DIS=B**2-4*A*C\n",
        "    print(DIS)\n",
        "    if DIS>0:\n",
        "        X1=((-B)+DIS**0.5)/(2*A)\n",
        "        X2=((-B)-DIS**0.5)/(2*A)\n",
        "        print(f\"Raíces reales X1: {X1} , X2:{X2} \" )\n",
        "        print(\"Fin del programa\")\n",
        "    else:\n",
        "        print(\"Fin del programa\")\n",
        "else:\n",
        "    print(\"Se necesita un valor diferente a 0 en A, vuelve a intentar\")"
      ],
      "execution_count": 84,
      "outputs": [
        {
          "output_type": "stream",
          "name": "stdout",
          "text": [
            "Dame un valor de tipo real diferente a 0: 3\n",
            "Dame un valor de tipo real: 9\n",
            "Dame un valor de tipo real: 1.5\n",
            "63.0\n",
            "Raíces reales X1: -0.17712434446770464 , X2:-2.8228756555322954 \n",
            "Fin del programa\n"
          ]
        }
      ]
    },
    {
      "cell_type": "markdown",
      "metadata": {
        "id": "zKpK_CR4Sd12"
      },
      "source": [
        "###Problema 2.4\n",
        "\n",
        "Construya un diagrama de flujo tal que dado como datos la matrícula y 5 califica­\n",
        "ciones de un alumno; imprima la matrícula, el promedio y la palabra “aprobado” \n",
        "si el alumno tiene un promedio mayor o igual que 6, y la palabra “no aprobado” \n",
        "en caso contrario."
      ]
    },
    {
      "cell_type": "code",
      "metadata": {
        "colab": {
          "base_uri": "https://localhost:8080/"
        },
        "id": "XPEHdHjkS8KS",
        "outputId": "945a3b7b-0c71-4b05-b4b5-03fd009e887b"
      },
      "source": [
        "MAT=int(input(\"Dame la matricula del alumno: \"))\n",
        "CAL1=float(input(\"Dame la calificación del alumno: \"))\n",
        "CAL2=float(input(\"Dame la calificación del alumno: \"))\n",
        "CAL3=float(input(\"Dame la calificación del alumno: \"))\n",
        "CAL4=float(input(\"Dame la calificación del alumno: \"))\n",
        "CAL5=float(input(\"Dame la calificación del alumno: \"))\n",
        "PRO=(CAL1+CAL2+CAL3+CAL4+CAL5)/5\n",
        "if PRO>=6:\n",
        "     print(f\"Matricula: {MAT}, Promedio: {PRO}, APROBADO\")\n",
        "else:\n",
        "    print(f\"Matricula: {MAT}, Promedio: {PRO}, NO APROBADO\")\n",
        "print(\"Fin del programa\")"
      ],
      "execution_count": 89,
      "outputs": [
        {
          "output_type": "stream",
          "name": "stdout",
          "text": [
            "Dame la matricula del alumno: 5465\n",
            "Dame la calificación del alumno: 5\n",
            "Dame la calificación del alumno: 8\n",
            "Dame la calificación del alumno: 9\n",
            "Dame la calificación del alumno: 7\n",
            "Dame la calificación del alumno: 6\n",
            "Matricula: 5465, Promedio: 7.0, APROBADO\n",
            "Fin del programa\n"
          ]
        }
      ]
    },
    {
      "cell_type": "markdown",
      "metadata": {
        "id": "PKoyBUX6YFIV"
      },
      "source": [
        "###Problema 2.5\n",
        "\n",
        "Construya un diagrama de flujo tal que dado como dato un número entero, de­termine e imprima si el mismo es positivo, negativo o nulo.\n"
      ]
    },
    {
      "cell_type": "code",
      "metadata": {
        "colab": {
          "base_uri": "https://localhost:8080/"
        },
        "id": "Ens6dqbFYSAT",
        "outputId": "b3fbc7fc-5f5a-42ca-c065-26998e32b635"
      },
      "source": [
        "NUM=int(input(\"Dame un numero entero: \"))\n",
        "if NUM>0:\n",
        "    print(\"Positivo\")\n",
        "elif NUM==0:\n",
        "    print(\"Nulo\")\n",
        "else:\n",
        "    print(\"Negativo\")\n",
        "print(\"Fin del programa\")    "
      ],
      "execution_count": 98,
      "outputs": [
        {
          "output_type": "stream",
          "name": "stdout",
          "text": [
            "Dame un numero entero: 8\n",
            "Positivo\n",
            "Fin del programa\n"
          ]
        }
      ]
    },
    {
      "cell_type": "markdown",
      "metadata": {
        "id": "Totnia2xaNB-"
      },
      "source": [
        "###Problema 2.6\n",
        "Dado un número entero A, haga un diagrama de flujo para determinar si el mismo es par, impar o nulo."
      ]
    },
    {
      "cell_type": "code",
      "metadata": {
        "colab": {
          "base_uri": "https://localhost:8080/"
        },
        "id": "fjsn4nQWaxSj",
        "outputId": "09843dd3-7cd7-4959-fe5b-53addaa308e5"
      },
      "source": [
        "A=int(input(\"Dame un numero entero: \"))\n",
        "if A==0:\n",
        "    print(\"Nulo\")\n",
        "elif A%2==0:\n",
        "    print(\"Par\")\n",
        "else:\n",
        "    print(\"Impar\")\n",
        "print(\"Fin del programa\")\n"
      ],
      "execution_count": 128,
      "outputs": [
        {
          "output_type": "stream",
          "name": "stdout",
          "text": [
            "Dame un numero entero: 1055\n",
            "Impar\n",
            "Fin del programa\n"
          ]
        }
      ]
    },
    {
      "cell_type": "markdown",
      "metadata": {
        "id": "EuFEhazPfhc3"
      },
      "source": [
        "#Problema 2.7\n",
        "\n",
        "Construya un diagrama de flujo tal que dado como datos de entrada tres núme­ros enteros, determine si los mismos están en orden creciente."
      ]
    },
    {
      "cell_type": "code",
      "metadata": {
        "colab": {
          "base_uri": "https://localhost:8080/"
        },
        "id": "GSwtsS8hgwbs",
        "outputId": "39719986-84b5-453d-fd30-c1c8111e2df7"
      },
      "source": [
        "A= int(input(\"Dame un primer numero entero:\"))\n",
        "B= int(input(\"Dame un segundo numero entero:\"))\n",
        "C= int(input(\"Dame un tercer numero entero:\"))\n",
        "if A==B:\n",
        "    print(\"Se necesitan numeros diferentes entre sí, vuelva a intentarlo\")\n",
        "\n",
        "elif A==C:\n",
        "    print(\"Se necesitan numeros diferentes entre sí, vuelva a intentarlo\")\n",
        "\n",
        "elif B==C:\n",
        "    print(\"Se necesitan numeros diferentes entre sí, vuelva a intentarlo\")\n",
        "\n",
        "elif B==A:\n",
        "    print(\"Se necesitan numeros diferentes entre sí, vuelva a intentarlo\")\n",
        "\n",
        "elif C==A:\n",
        "    print(\"Se necesita numeros diferentes entre sí, vuelva a intentarlo\")\n",
        "\n",
        "elif C==B:\n",
        "    print(\"Se necesita numeros diferentes entre sí, vuelva a intentarlo\")\n",
        "\n",
        "elif A==B==C:\n",
        "    print(\"Se necesitan numeros diferentes entre sí, vuelva a intentarlo\")\n",
        "\n",
        "elif A<B:\n",
        "    if B<C:\n",
        "        print(\"Los números están en orden creciente\")\n",
        "    else:\n",
        "        print(\"Los números no están en orden creciente\")\n",
        "else:\n",
        "        print(\"Los números no están en orden creciente\")        \n",
        "print(\"Fin del programa\")"
      ],
      "execution_count": 131,
      "outputs": [
        {
          "output_type": "stream",
          "name": "stdout",
          "text": [
            "Dame un primer numero entero:5\n",
            "Dame un segundo numero entero:6\n",
            "Dame un tercer numero entero:7\n",
            "Los números están en orden creciente\n",
            "Fin del programa\n"
          ]
        }
      ]
    },
    {
      "cell_type": "markdown",
      "metadata": {
        "id": "bUzfcja67hZh"
      },
      "source": [
        "###Problema 2.8\n",
        "En una tienda efectúan un descuento a los clientes dependiendo del monto de la \n",
        "compra. El descuento se efectúa con base en el siguiente criterio:\n",
        "\n",
        "```\n",
        "Si el monto es menor que $500, no hay descuento.\n",
        "Si el monto está comprendido entre $500 y $1000, hay un 5% de descuento.\n",
        "Si el monto está comprendido entre $1000 y $7000, hay un 11% de descuento.\n",
        "Si el monto está comprendido entre $7000 y $15000, hay un 18% de descuento.\n",
        "Si el monto es mayor a $15000, hay un 25% de descuento.\n",
        "``` \n"
      ]
    },
    {
      "cell_type": "code",
      "metadata": {
        "colab": {
          "base_uri": "https://localhost:8080/"
        },
        "id": "dPfsIYM3TQ5H",
        "outputId": "0063bcc3-f22f-4753-e32a-43d50f9067d5"
      },
      "source": [
        "COMPRA=float(input(\"¿De cuanto es su monto de compra?: \"))\n",
        "PAGAR=0\n",
        "if COMPRA<500:\n",
        "    PAGAR= COMPRA\n",
        "    print(f\"{PAGAR} Es el monto que debe pagar.\")\n",
        "elif COMPRA<=1000:\n",
        "    PAGAR=round(COMPRA-(COMPRA*0.05),2)\n",
        "    print(f\"{PAGAR} Es el monto que debe pagar.\")\n",
        "elif COMPRA<=7000:\n",
        "    PAGAR=round(COMPRA-(COMPRA*0.11),2)\n",
        "    print(f\"{PAGAR} Es el monto que debe pagar.\")\n",
        "elif COMPRA<=15000:\n",
        "    PAGAR=round(COMPRA-(COMPRA*0.18),2)\n",
        "    print(f\"{PAGAR} Es el monto que debe pagar.\")\n",
        "elif COMPRA>15000:\n",
        "    PAGAR=round(COMPRA-(COMPRA*0.25),2)\n",
        "    print(f\"{PAGAR} Es el monto que debe pagar.\")\n",
        "\n",
        "print(\"Fin de su compra\")    "
      ],
      "execution_count": 6,
      "outputs": [
        {
          "output_type": "stream",
          "name": "stdout",
          "text": [
            "¿De cuanto es su monto de compra?: 895.80\n",
            "851.01 Es el monto que debe pagar.\n",
            "Fin de su compra\n"
          ]
        }
      ]
    },
    {
      "cell_type": "markdown",
      "metadata": {
        "id": "VDUAi8bsY_oW"
      },
      "source": [
        "### Problema 2.9\n",
        "\n",
        "En un cierto país el impuesto que se debe pagar por los artículos se calcula me­diante la siguiente regla:\n",
        "```\n",
        "Los primeros $20 no causan impuesto, \n",
        "los siguientes $20 tienen el 30% de impuesto y el resto el 40% de impuesto,\n",
        "pero si el costo del pro­ducto es mayor a $500, entonces en lugar del 40% se cobra el 50%.\n",
        "```\n",
        "Diseñe un diagrama de flujo que lea el costo básico de un artículo y calcule su \n",
        "precio total (precio total  = precio básico  +  impuesto).\n"
      ]
    },
    {
      "cell_type": "code",
      "metadata": {
        "colab": {
          "base_uri": "https://localhost:8080/"
        },
        "id": "Qdlf4QiMZajq",
        "outputId": "4ed3de44-525e-46ea-9b5c-af63c6f8ed82"
      },
      "source": [
        "PREBAS=float(input(\"Dame el precio básico del producto: \"))\n",
        "IMP=0\n",
        "PRETOT=0\n",
        "if PREBAS>500:\n",
        "    IMP=round(20*0.30+(PREBAS-40)*0.50,2)\n",
        "    PRETOT= PREBAS+IMP\n",
        "    print(f\"El costo básico es de: {PREBAS}, el costo total o costo básico más impuestos es de: {PRETOT} \")\n",
        "elif PREBAS>40:\n",
        "    IMP=round(20*0.30+(PREBAS-40)*0.40,2)\n",
        "    PRETOT= PREBAS+IMP\n",
        "    print(f\"El costo básico es de: {PREBAS}, el costo total o costo básico más impuestos es de: {PRETOT} \")\n",
        "elif PREBAS>20:\n",
        "    IMP=round((PREBAS-20)*0.30,2)\n",
        "    PRETOT= PREBAS+IMP\n",
        "    print(f\"El costo básico es de: {PREBAS}, el costo total o costo básico más impuestos es de: {PRETOT} \")\n",
        "else:\n",
        "    IMP=0\n",
        "    PRETOT= PREBAS+IMP\n",
        "    print(f\"El costo básico es de: {PREBAS}, el costo total o costo básico más impuestos es de: {PRETOT} \")\n",
        "print(\"Fin del programa\")"
      ],
      "execution_count": 4,
      "outputs": [
        {
          "output_type": "stream",
          "name": "stdout",
          "text": [
            "Dame el precio básico del producto: 527.50\n",
            "El costo básico es de: 527.5, el costo total o costo básico más impuestos es de: 777.25 \n",
            "Fin del programa\n"
          ]
        }
      ]
    },
    {
      "cell_type": "markdown",
      "metadata": {
        "id": "OXhnvtkfPk56"
      },
      "source": [
        "###Problema 2.10\n",
        "Dado  como  datos tres  números  reales,  identifique  cuál  es  el  mayor.  Considere \n",
        "que los números pueden ser iguales.  Desarrolle el diagrama de flujo correspon­\n",
        "diente."
      ]
    },
    {
      "cell_type": "code",
      "metadata": {
        "colab": {
          "base_uri": "https://localhost:8080/"
        },
        "id": "fltcgBrTP6lw",
        "outputId": "e7101b06-71e4-4c80-e01b-9ec35e6083bb"
      },
      "source": [
        "A=float(input(\"Dame un valor numérico: \"))\n",
        "B=float(input(\"Dame un segundo valor numérico: \"))\n",
        "C=float(input(\"Dame un tercer valor numérico: \"))\n",
        "if A>B:\n",
        "    if A>C:\n",
        "        print(f\"{A} Es el mayor\")\n",
        "        if A==C:\n",
        "            print(f\"{A} y {C} los son mayores\")\n",
        "        else:\n",
        "            print(f\"{C} Es el mayor\")    \n",
        "elif A==B:\n",
        "    if A>C:\n",
        "        print(f\"{A} y {B} son los mayores\") \n",
        "        if A==C:\n",
        "            print(f\"{A}, {B} y {C}son iguales\") \n",
        "        else:\n",
        "            print(f\"{C} Es el mayor\")  \n",
        "elif B>C:\n",
        "        print(f\"{B} Es el mayor\")\n",
        "        if B==C:\n",
        "            print(f\"{B} y {C} son los mayores\")\n",
        "        else:\n",
        "            print(f\"{C} Es el mayor\")\n",
        "\n",
        "\n",
        "\n"
      ],
      "execution_count": 20,
      "outputs": [
        {
          "name": "stdout",
          "output_type": "stream",
          "text": [
            "Dame un valor numérico: 6\n",
            "Dame un segundo valor numérico: 8\n",
            "Dame un tercer valor numérico: 9\n"
          ]
        }
      ]
    }
  ]
}