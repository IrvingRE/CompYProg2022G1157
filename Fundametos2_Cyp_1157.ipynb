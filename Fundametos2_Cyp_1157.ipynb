{
  "nbformat": 4,
  "nbformat_minor": 0,
  "metadata": {
    "colab": {
      "name": "Fundametos2_Cyp_1157.ipynb",
      "provenance": [],
      "authorship_tag": "ABX9TyNUNlG0Ph5qjdX9uf6L95He",
      "include_colab_link": true
    },
    "kernelspec": {
      "name": "python3",
      "display_name": "Python 3"
    },
    "language_info": {
      "name": "python"
    }
  },
  "cells": [
    {
      "cell_type": "markdown",
      "metadata": {
        "id": "view-in-github",
        "colab_type": "text"
      },
      "source": [
        "<a href=\"https://colab.research.google.com/github/IrvingRE/CompYProg2022G1157/blob/main/Fundametos2_Cyp_1157.ipynb\" target=\"_parent\"><img src=\"https://colab.research.google.com/assets/colab-badge.svg\" alt=\"Open In Colab\"/></a>"
      ]
    },
    {
      "cell_type": "markdown",
      "metadata": {
        "id": "yPp5a_5TFdEU"
      },
      "source": [
        "# Tipos de datos estructurados de python\n",
        "\n",
        "1. Listas\n",
        "2. Tuplas\n",
        "3. Diccionarios\n",
        "4. Conjuntos(opcional)\n",
        "\n",
        "\n"
      ]
    },
    {
      "cell_type": "markdown",
      "metadata": {
        "id": "NaJuxqLFFsLQ"
      },
      "source": [
        "# Listas\n",
        "\n",
        "- Tipo de dato que agrupa variables o valores. \n",
        "- Estructura secuencial (indexados empezando por 0)\n",
        "- Se declara de dos formas#\n",
        "    - usando [  ]\n",
        "    - usando list()\n",
        "    - usando un generador\n",
        "- Puede contener tipos de dato diversos (En otros lenguajes de programación eso no es posible de forma directa)\n",
        "- Los elementos internos se seleccionan con [ ]\n",
        "- Soporta slicing \n",
        "- GENERADOS [var for x in range(10)]\n",
        "- SON MUTABLES\n",
        "- al ser una clase contiene muchos métodos útiles\n"
      ]
    },
    {
      "cell_type": "code",
      "metadata": {
        "colab": {
          "base_uri": "https://localhost:8080/"
        },
        "id": "OSRLOXrVGeVu",
        "outputId": "b8a5a3ca-c742-42f5-a162-7eb4430d7dcc"
      },
      "source": [
        "numeros= [10, 5, 2, 3 , 1]\n",
        "print(numeros)\n",
        "\n",
        "numeros2= list()\n",
        "numeros2.append(10)\n",
        "numeros2.append(5)\n",
        "numeros2.append(2)\n",
        "numeros2.append(3)\n",
        "numeros2.append(1)\n",
        "print(numeros2)\n",
        "print(numeros)\n",
        "numeros[2]=33\n",
        "print(numeros)"
      ],
      "execution_count": null,
      "outputs": [
        {
          "output_type": "stream",
          "name": "stdout",
          "text": [
            "[10, 5, 2, 3, 1]\n",
            "[10, 5, 2, 3, 1]\n",
            "[10, 5, 2, 3, 1]\n",
            "[10, 5, 33, 3, 1]\n"
          ]
        }
      ]
    },
    {
      "cell_type": "code",
      "metadata": {
        "colab": {
          "base_uri": "https://localhost:8080/"
        },
        "id": "wKnrpmiBIipR",
        "outputId": "2838773e-9c9c-4494-e449-03aece855305"
      },
      "source": [
        "#tipos diversos\n",
        "\n",
        "cosas= [12, 2, True, \"Irving\", 1.63, [\"pera\", \"kiwi\" ,\"uva\"]]\n",
        "print(cosas)\n",
        "print(cosas[1])\n",
        "print(cosas[4])\n",
        "print(cosas[5])\n",
        "print(cosas[5][1])\n",
        "print(cosas[3][1:3:])\n",
        "cosas[3]= cosas[3].upper()\n",
        "print(cosas)"
      ],
      "execution_count": null,
      "outputs": [
        {
          "output_type": "stream",
          "name": "stdout",
          "text": [
            "[12, 2, True, 'Irving', 1.63, ['pera', 'kiwi', 'uva']]\n",
            "2\n",
            "1.63\n",
            "['pera', 'kiwi', 'uva']\n",
            "kiwi\n",
            "rv\n",
            "[12, 2, True, 'IRVING', 1.63, ['pera', 'kiwi', 'uva']]\n"
          ]
        }
      ]
    },
    {
      "cell_type": "code",
      "metadata": {
        "colab": {
          "base_uri": "https://localhost:8080/"
        },
        "id": "rcmR4ESTL2c9",
        "outputId": "9ab9903a-fa79-4e1b-9467-9def33b1f652"
      },
      "source": [
        "numeros=[1,2,3,4,5,6,7,8,9,10,11]\n",
        "print(numeros)\n",
        "#slicing\n",
        "#1.- 4 al 8???\n",
        "print(numeros[3:8])\n",
        "\n",
        "#2.-  [9,10]\n",
        "print(numeros[-3:-1:])\n",
        "#3.- imprimir la lista en orden inverso\n",
        "print(numeros[::-1])"
      ],
      "execution_count": null,
      "outputs": [
        {
          "output_type": "stream",
          "name": "stdout",
          "text": [
            "[1, 2, 3, 4, 5, 6, 7, 8, 9, 10, 11]\n",
            "[4, 5, 6, 7, 8]\n",
            "[9, 10]\n",
            "[11, 10, 9, 8, 7, 6, 5, 4, 3, 2, 1]\n"
          ]
        }
      ]
    },
    {
      "cell_type": "code",
      "metadata": {
        "colab": {
          "base_uri": "https://localhost:8080/"
        },
        "id": "6BQL1UP7PoZd",
        "outputId": "f0f68ec8-03b4-4897-f7cd-0aab836bc39b"
      },
      "source": [
        "#Crear una lista con un generador\n",
        "numeros= [x*3 for x in range(101) ]\n",
        "print(numeros)\n"
      ],
      "execution_count": null,
      "outputs": [
        {
          "output_type": "stream",
          "name": "stdout",
          "text": [
            "[0, 3, 6, 9, 12, 15, 18, 21, 24, 27, 30, 33, 36, 39, 42, 45, 48, 51, 54, 57, 60, 63, 66, 69, 72, 75, 78, 81, 84, 87, 90, 93, 96, 99, 102, 105, 108, 111, 114, 117, 120, 123, 126, 129, 132, 135, 138, 141, 144, 147, 150, 153, 156, 159, 162, 165, 168, 171, 174, 177, 180, 183, 186, 189, 192, 195, 198, 201, 204, 207, 210, 213, 216, 219, 222, 225, 228, 231, 234, 237, 240, 243, 246, 249, 252, 255, 258, 261, 264, 267, 270, 273, 276, 279, 282, 285, 288, 291, 294, 297, 300]\n"
          ]
        }
      ]
    },
    {
      "cell_type": "markdown",
      "metadata": {
        "id": "MBW-65V5QZdr"
      },
      "source": [
        "# función range()\n",
        "\n",
        "Tiene los mismos componentes que sñicing\n",
        "inicio, stop , incremento\n",
        "\n",
        "range(1,101,1)"
      ]
    },
    {
      "cell_type": "code",
      "metadata": {
        "colab": {
          "base_uri": "https://localhost:8080/"
        },
        "id": "wPx-fY5XQt2T",
        "outputId": "e7383d74-ecd4-41da-9be5-1d1fb7c35e54"
      },
      "source": [
        "numeros= [x for x in range(50, 101, 5) ]\n",
        "print(numeros)"
      ],
      "execution_count": null,
      "outputs": [
        {
          "output_type": "stream",
          "name": "stdout",
          "text": [
            "[50, 55, 60, 65, 70, 75, 80, 85, 90, 95, 100]\n"
          ]
        }
      ]
    },
    {
      "cell_type": "markdown",
      "metadata": {
        "id": "n1_pp3AORMGh"
      },
      "source": [
        "# Metodos disponibles de las listas"
      ]
    },
    {
      "cell_type": "code",
      "metadata": {
        "colab": {
          "base_uri": "https://localhost:8080/"
        },
        "id": "E1GKSfJtRQJs",
        "outputId": "e84c9bd8-5b66-4445-ff3e-dbf49d4734ef"
      },
      "source": [
        "dir(list)"
      ],
      "execution_count": null,
      "outputs": [
        {
          "output_type": "execute_result",
          "data": {
            "text/plain": [
              "['__add__',\n",
              " '__class__',\n",
              " '__contains__',\n",
              " '__delattr__',\n",
              " '__delitem__',\n",
              " '__dir__',\n",
              " '__doc__',\n",
              " '__eq__',\n",
              " '__format__',\n",
              " '__ge__',\n",
              " '__getattribute__',\n",
              " '__getitem__',\n",
              " '__gt__',\n",
              " '__hash__',\n",
              " '__iadd__',\n",
              " '__imul__',\n",
              " '__init__',\n",
              " '__init_subclass__',\n",
              " '__iter__',\n",
              " '__le__',\n",
              " '__len__',\n",
              " '__lt__',\n",
              " '__mul__',\n",
              " '__ne__',\n",
              " '__new__',\n",
              " '__reduce__',\n",
              " '__reduce_ex__',\n",
              " '__repr__',\n",
              " '__reversed__',\n",
              " '__rmul__',\n",
              " '__setattr__',\n",
              " '__setitem__',\n",
              " '__sizeof__',\n",
              " '__str__',\n",
              " '__subclasshook__',\n",
              " 'append',\n",
              " 'clear',\n",
              " 'copy',\n",
              " 'count',\n",
              " 'extend',\n",
              " 'index',\n",
              " 'insert',\n",
              " 'pop',\n",
              " 'remove',\n",
              " 'reverse',\n",
              " 'sort']"
            ]
          },
          "metadata": {},
          "execution_count": 34
        }
      ]
    },
    {
      "cell_type": "code",
      "metadata": {
        "colab": {
          "base_uri": "https://localhost:8080/"
        },
        "id": "Fm-SCqUqScyG",
        "outputId": "06154e71-0bf4-4eca-ea83-9ffe8762db87"
      },
      "source": [
        "numeros= [4,1,14,8,22,34,50 ]\n",
        "print(numeros)\n",
        "numeros.append(99)\n",
        "print(numeros)\n",
        "numeros.clear()\n",
        "print(numeros)\n",
        "#alternativa \n",
        "numeros= [4,1,14,8,22,34,50 ]\n",
        "print(numeros)\n",
        "numeros=[]\n",
        "print(numeros)\n",
        "\n",
        "frutas=[\"uvas\",\"kiwi\",\"manzana\"]\n",
        "copia=frutas\n",
        "print(frutas)\n",
        "print(copia)\n",
        "frutas.append(\"Naranja\")\n",
        "print(frutas)\n",
        "print(copia)\n",
        "\n",
        "colores=[\"rojo\",\"azul\", \"blanco\"]\n",
        "copia2=colores.copy()\n",
        "print(colores)\n",
        "print(copia2)\n",
        "colores.append(\"verde\")\n",
        "print(colores)\n",
        "print(copia2)\n",
        "\n",
        "#COUNT\n",
        "numeros=numeros= [4,1,14,8,22,34,50,15 ]\n",
        "print(\"Numero de veces que aparece el 15=\", numeros.count(15))\n",
        "\n",
        "#extend\n",
        "\n",
        "nombres=[\"jose\", \"pedro\", \"karina\"]\n",
        "otrosnombres=[\"josue\", \"diana\", \"dalia\"]\n",
        "\n",
        "print(nombres)\n",
        "print(otrosnombres)\n",
        "nombres= nombres+ otrosnombres\n",
        "print(nombres)\n",
        "print(otrosnombres)\n",
        "\n",
        "#lo mismo con el método extend\n",
        "otrosnombres.extend([\"Jesus\", \"Maria\", \"Jose\"])\n",
        "print(otrosnombres)\n",
        "\n",
        "#index\n",
        "print(\"Jesus esta en la posicion:\", otrosnombres.index(\"Jesus\"))\n",
        "\n",
        "#insert\n",
        "otrosnombres.insert(4, \"Espiritu santo\")\n",
        "print(otrosnombres)\n",
        "\n",
        "#pop\n",
        "resultado= otrosnombres.pop()\n",
        "print(otrosnombres)\n",
        "print(resultado)"
      ],
      "execution_count": null,
      "outputs": [
        {
          "output_type": "stream",
          "name": "stdout",
          "text": [
            "[4, 1, 14, 8, 22, 34, 50]\n",
            "[4, 1, 14, 8, 22, 34, 50, 99]\n",
            "[]\n",
            "[4, 1, 14, 8, 22, 34, 50]\n",
            "[]\n",
            "['uvas', 'kiwi', 'manzana']\n",
            "['uvas', 'kiwi', 'manzana']\n",
            "['uvas', 'kiwi', 'manzana', 'Naranja']\n",
            "['uvas', 'kiwi', 'manzana', 'Naranja']\n",
            "['rojo', 'azul', 'blanco']\n",
            "['rojo', 'azul', 'blanco']\n",
            "['rojo', 'azul', 'blanco', 'verde']\n",
            "['rojo', 'azul', 'blanco']\n",
            "Numero de veces que aparece el 15= 1\n",
            "['jose', 'pedro', 'karina']\n",
            "['josue', 'diana', 'dalia']\n",
            "['jose', 'pedro', 'karina', 'josue', 'diana', 'dalia']\n",
            "['josue', 'diana', 'dalia']\n",
            "['josue', 'diana', 'dalia', 'Jesus', 'Maria', 'Jose']\n",
            "Jesus esta en la posicion: 3\n",
            "['josue', 'diana', 'dalia', 'Jesus', 'Espiritu santo', 'Maria', 'Jose']\n",
            "['josue', 'diana', 'dalia', 'Jesus', 'Espiritu santo', 'Maria']\n",
            "Jose\n"
          ]
        }
      ]
    },
    {
      "cell_type": "markdown",
      "metadata": {
        "id": "VeCboVq7v0eE"
      },
      "source": [
        "# Tuplas \n",
        "\n",
        "### Características de las tuplas \n",
        "\n",
        "- Son datos agrupados \n",
        "- Se declara usando#\n",
        "      \n",
        "- Es una estructura secuencial, indexada a partir de 0.\n",
        "- Pueden tener de 0 a n elementos \n",
        "- NO SON MUTABLES(no se puede eliminar y/o cambiar) \n",
        "- Son buenas para almacenar información de consulta.\n",
        "- Pueden almacenar información de diferentes tipo de dato.\n",
        "- Pueden estar anidadas.\n",
        "- Tienen métodos útiles. \n"
      ]
    },
    {
      "cell_type": "code",
      "metadata": {
        "id": "sQ07Gu0Sw0XI",
        "colab": {
          "base_uri": "https://localhost:8080/"
        },
        "outputId": "39dfb946-6d0d-4a9f-893b-b421eb1f1b89"
      },
      "source": [
        "info= (\"juan23\" , \"dios1234\" , \"123.232.1.12\")\n",
        "print(info)\n",
        "print(info[1])\n",
        "#info[1]= \"patito23\"\n",
        "\n",
        "numeros=(0,1,2,3,4,5,6,7,8,9,10,11,12,13,14,15)\n",
        "print(numeros)\n",
        "\n",
        "cosas=(info, numeros)\n",
        "print(cosas)\n",
        "print(cosas[1][5:11:1])\n",
        "print(cosas[0][2][4:7])\n",
        "print(cosas[0][2][-8:-5])\n"
      ],
      "execution_count": null,
      "outputs": [
        {
          "output_type": "stream",
          "name": "stdout",
          "text": [
            "('juan23', 'dios1234', '123.232.1.12')\n",
            "dios1234\n",
            "(0, 1, 2, 3, 4, 5, 6, 7, 8, 9, 10, 11, 12, 13, 14, 15)\n",
            "(('juan23', 'dios1234', '123.232.1.12'), (0, 1, 2, 3, 4, 5, 6, 7, 8, 9, 10, 11, 12, 13, 14, 15))\n",
            "(5, 6, 7, 8, 9, 10)\n",
            "232\n",
            "232\n"
          ]
        }
      ]
    },
    {
      "cell_type": "markdown",
      "metadata": {
        "id": "U4chKOr10nxr"
      },
      "source": [
        "# Métodos de las tuplas\n",
        "Son los mismos de las listas pero los que no involucren mutabilidad.\n"
      ]
    },
    {
      "cell_type": "code",
      "metadata": {
        "id": "f_SF4mOg0x8A",
        "colab": {
          "base_uri": "https://localhost:8080/"
        },
        "outputId": "1e8a58c8-2499-4803-ec00-5eba35ccdd72"
      },
      "source": [
        "dir(tuple)"
      ],
      "execution_count": null,
      "outputs": [
        {
          "output_type": "execute_result",
          "data": {
            "text/plain": [
              "['__add__',\n",
              " '__class__',\n",
              " '__contains__',\n",
              " '__delattr__',\n",
              " '__dir__',\n",
              " '__doc__',\n",
              " '__eq__',\n",
              " '__format__',\n",
              " '__ge__',\n",
              " '__getattribute__',\n",
              " '__getitem__',\n",
              " '__getnewargs__',\n",
              " '__gt__',\n",
              " '__hash__',\n",
              " '__init__',\n",
              " '__init_subclass__',\n",
              " '__iter__',\n",
              " '__le__',\n",
              " '__len__',\n",
              " '__lt__',\n",
              " '__mul__',\n",
              " '__ne__',\n",
              " '__new__',\n",
              " '__reduce__',\n",
              " '__reduce_ex__',\n",
              " '__repr__',\n",
              " '__rmul__',\n",
              " '__setattr__',\n",
              " '__sizeof__',\n",
              " '__str__',\n",
              " '__subclasshook__',\n",
              " 'count',\n",
              " 'index']"
            ]
          },
          "metadata": {},
          "execution_count": 4
        }
      ]
    },
    {
      "cell_type": "markdown",
      "metadata": {
        "id": "igCaJDcq23m4"
      },
      "source": [
        "# Diccionarios \n",
        "\n",
        "### Características de los diccionarios \n",
        "\n",
        "- Agrupan datos de forma no líneal.\n",
        "- Se declaran con#\n",
        "         - {}\n",
        "         - dict()\n",
        "\n",
        "- Formado por paras de tipo llave:valor\n",
        "         - llave es de tipo string(SIEMPRE)\n",
        "         - valor puede ser de cualquier tipo de dato, incluyendo los diccionarios.\n",
        "- Se seleccionan con la llave de la forma: [\"id_llave\"]\n",
        "- SON MUTABLES.\n",
        "- Son anidables.\n",
        "- Son equivalentes al tipo de dato JSON del lenguaje JavaScript (JS)\n"
      ]
    },
    {
      "cell_type": "code",
      "metadata": {
        "id": "DWB0_M5C4zpW",
        "colab": {
          "base_uri": "https://localhost:8080/"
        },
        "outputId": "c08d9861-919c-4d05-e5b5-39c03a57408c"
      },
      "source": [
        "alumno= {\"nombre\" : \"José\"}\n",
        "print(alumno)\n",
        "print(alumno[\"nombre\"])\n",
        "alumno={\"nombre\" : \"José\" , \"nc\":\"2129229292\" , \"edad\":18 }\n",
        "print(\"Edad del alumno:\" , alumno[\"edad\"])\n",
        "print(alumno[\"nombre\"].upper())\n",
        "\n",
        "alumno2= dict()  #{}\n",
        "alumno2[\"nombre\"]=\"José\"\n",
        "print(alumno2)\n",
        "alumno2[\"nc\"]= \"2129229292\"\n",
        "alumno2[\"edad\"]= 18\n",
        "print(alumno2)\n",
        "alumno2[\"edad\"]= alumno2[\"edad\"] + 1\n",
        "print(alumno2)"
      ],
      "execution_count": null,
      "outputs": [
        {
          "output_type": "stream",
          "name": "stdout",
          "text": [
            "{'nombre': 'José'}\n",
            "José\n",
            "Edad del alumno: 18\n",
            "JOSÉ\n",
            "{'nombre': 'José'}\n",
            "{'nombre': 'José', 'nc': '2129229292', 'edad': 18}\n",
            "{'nombre': 'José', 'nc': '2129229292', 'edad': 19}\n"
          ]
        }
      ]
    },
    {
      "cell_type": "code",
      "metadata": {
        "id": "wShIbCuL8P8p",
        "colab": {
          "base_uri": "https://localhost:8080/"
        },
        "outputId": "00af03a6-312c-4b77-8b89-e56b51f1e234"
      },
      "source": [
        "cliente= {\"id\":\"CT2121\" ,\n",
        "          \"nombre\":\"José Pedroza Rosales\" ,\n",
        "          \"telefonos\": \"casa=554456565 cel=0445567767\"}\n",
        "print(cliente)\n",
        "cliente= {\"id\":\"CT2121\" ,\n",
        "          \"nombre\": {\n",
        "              \"nombres\" : [\"José\"],\n",
        "              \"paterno\" : \"Pedroza\",\n",
        "              \"materno\" : \"Rosales\"  \n",
        "          },\n",
        "          \"telefonos\":{ \n",
        "              \"casa\": \"554456565\" , \n",
        "              \"trabajo\": \"554433232\" ,\n",
        "              \"celular\": \"0445567767\" \n",
        "          },\n",
        "          \"productos\":{\n",
        "                  \"ahorro\":{\"numero_cuenta\":\"7788\" , \"ahorro\": 2500.5},\n",
        "                  \"tarjetas\":[\n",
        "                                {\"tipo\":\"debito\" , \"saldo\" : 10000.5 },\n",
        "                                {\"tipo\":\"credito preferente\", \"limite\":250000.5},\n",
        "                                {\"tipo\":\"lite\",\"limite\": 15000.5}   \n",
        "                  ]\n",
        "                      },\n",
        "\"dirección\":{\n",
        "    \"calle\":\"Av. central\",\n",
        "    \"numero\": 1245,\n",
        "    \"colonia\": \"Impulsora\",\n",
        "    \"delegación\": \"neza\",\n",
        "    \"estado\":{\n",
        "                \"clave\":15,\n",
        "                \"nombre_corto\":\"EdoMex\",\n",
        "                \"nombre\": \"Estado de México\"\n",
        "\n",
        "    }\n",
        "}\n",
        "            \n",
        "          }\n",
        "          \n",
        "print(cliente[\"telefonos\"][\"casa\"])\n",
        "print(cliente[\"productos\"][\"ahorro\"][\"ahorro\"])\n",
        "print( cliente [\"productos\"][\"tarjetas\"][2][\"limite\"])\n",
        "print(cliente[\"dirección\"][\"estado\"][\"nombre\"].upper())\n",
        "cliente[\"productos\"][\"ahorro\"][\"ahorro\"] -= 1500\n",
        "print(cliente [\"productos\"])\n",
        "\n",
        "Spiderman={\"nombre\" : \"Piter Parker\",\n",
        "           \"poderes\" : \"Superfuerza, trepar muros, lanzar telarañas, sentido aracnido\",\n",
        "           \"A que se dedica\" : \"Estudiar y ser un heroe\",\n",
        "           \"Con quién vive\" : \"Sus tíos\",\n",
        "           \"nombre de superheroe\": \"Spiderman\"\n",
        "\n",
        "           }\n",
        "print(Spiderman)"
      ],
      "execution_count": null,
      "outputs": [
        {
          "output_type": "stream",
          "name": "stdout",
          "text": [
            "{'id': 'CT2121', 'nombre': 'José Pedroza Rosales', 'telefonos': 'casa=554456565 cel=0445567767'}\n",
            "554456565\n",
            "2500.5\n",
            "15000.5\n",
            "ESTADO DE MÉXICO\n",
            "{'ahorro': {'numero_cuenta': '7788', 'ahorro': 1000.5}, 'tarjetas': [{'tipo': 'debito', 'saldo': 10000.5}, {'tipo': 'credito preferente', 'limite': 250000.5}, {'tipo': 'lite', 'limite': 15000.5}]}\n",
            "{'nombre': 'Piter Parker', 'poderes': 'Superfuerza, trepar muros, lanzar telarañas, sentido aracnido', 'A que se dedica': 'Estudiar y ser un heroe', 'Con quién vive': 'Sus tíos', 'nombre de superheroe': 'Spiderman'}\n"
          ]
        }
      ]
    },
    {
      "cell_type": "markdown",
      "metadata": {
        "id": "09zb1nURMl6Z"
      },
      "source": [
        "# Estructuras de control de programación \n",
        "\n",
        "Se puede crear cualquier tipo de algoritmo empleando solamente 3 estructuras de control: \n",
        "\n",
        "1. Secuencia: \n",
        "          - La representación de la memoria de programa(Arquitectura Vonn Newman)\n",
        "\n",
        "2. Selección:\n",
        "          - Es la estructura de control que decide si un bloque de programa se\n",
        "           ejecuta o no se ejecuta. También permite seleccionar ejecutar un\n",
        "            bloque entre un conjunto de opciones.\n",
        "          En resumen tenemos: Selección simple, selección con bifurcación y\n",
        "           selección múltiple.\n",
        "\n",
        "3. Repetición:\n",
        "          - Este tipo de estructura nos permite automatizar la ejecución\n",
        "           repetitiva de código mientras ciertas condiciones se cumplan,\n",
        "            tenemos 3 variantes de esta estructura en todos los lenguajes de\n",
        "             programación: \n",
        "          - Desde...hasta (estructura for)\n",
        "          - Haz mientras(estrutura While)\n",
        "          - Haz y luego validaz mientras(estructura Do-While)\n"
      ]
    },
    {
      "cell_type": "markdown",
      "metadata": {
        "id": "fobWd2l7SCdV"
      },
      "source": [
        "#Selección simple\n",
        "- Documentar o poner notas\n",
        "\n",
        "la estructura if\n",
        "\n",
        "      if<CONDICION>:\n",
        "      <Cuerpo del IF> \n",
        "**NOTA** Para establecer el[cuerpo de una estructura de control] en Python se usan los tabuladores a la izq.\n",
        "\n",
        "En otros lenguajes de programación como java, c y c++... se usan las llaves { }\n",
        "\n",
        "        int edad=0;\n",
        "        printf(\"Dame tu edad\");\n",
        "        scanf(\"%i\", &edad);\n",
        "        if(edad>=18);{\n",
        "            printf(\"ERES MAYOR DE EDAD\");\n",
        "        }\n",
        "        printf(\"Fin de programa\")\n",
        "        \n",
        "\n"
      ]
    },
    {
      "cell_type": "code",
      "metadata": {
        "id": "RHQrzGJWSL_Z",
        "colab": {
          "base_uri": "https://localhost:8080/"
        },
        "outputId": "9f305c4f-0eac-4d29-906b-62983071de3a"
      },
      "source": [
        "edad= int(input(\"Dame tu edad:\"))\n",
        "print(f\"Tecleaste {edad} años\")\n",
        "if edad>=18:\n",
        "    print(\"ERES MAYOR DE EDAD\")\n",
        "    print(\"Algo\")\n",
        "print(\"Otra cosa\")\n",
        "print(\"Fin de programa\")\n",
        "\n",
        "\n",
        "CAL = int( input(\"Dame tu calificacion: \"))\n",
        "if CAL > 8 :\n",
        "    print (\"aprobado\")\n",
        "print (\"Fin del programa\")"
      ],
      "execution_count": null,
      "outputs": [
        {
          "output_type": "stream",
          "name": "stdout",
          "text": [
            "Dame tu edad:8\n",
            "Tecleaste 8 años\n",
            "Otra cosa\n",
            "Fin de programa\n",
            "Dame tu calificacion: 8\n",
            "Fin del programa\n"
          ]
        }
      ]
    },
    {
      "cell_type": "code",
      "metadata": {
        "id": "9A0RudGQXXzH",
        "colab": {
          "base_uri": "https://localhost:8080/"
        },
        "outputId": "747b4f89-cae7-47f8-896a-61ae19714246"
      },
      "source": [
        "CAL = float( input(\"Dame tu calificacion: \"))\n",
        "if CAL > 8 :\n",
        "    print (\"aprobado\")\n",
        "print (\"Fin del programa\")"
      ],
      "execution_count": null,
      "outputs": [
        {
          "output_type": "stream",
          "name": "stdout",
          "text": [
            "Dame tu calificacion: 8.9\n",
            "aprobado\n",
            "Fin del programa\n"
          ]
        }
      ]
    },
    {
      "cell_type": "code",
      "metadata": {
        "id": "c_08EnBsXxKf",
        "colab": {
          "base_uri": "https://localhost:8080/"
        },
        "outputId": "997a293f-f973-48d0-e0c7-5c259e49f30e"
      },
      "source": [
        "SUE = float(input(\"Escribe el sueldo: \"))\n",
        "AUM = 0 \n",
        "NSUE = 0\n",
        "\n",
        "if SUE < 1000 :\n",
        "    AUM = SUE* 0.15\n",
        "    NSUE = SUE + AUM\n",
        "    print(NSUE)"
      ],
      "execution_count": null,
      "outputs": [
        {
          "output_type": "stream",
          "name": "stdout",
          "text": [
            "Escribe el sueldo: 875.50\n",
            "1006.825\n"
          ]
        }
      ]
    },
    {
      "cell_type": "markdown",
      "metadata": {
        "id": "S6Q0-H0OG_wo"
      },
      "source": [
        "# Estructura de selección con bifurcación (if-else)\n",
        "Esta estructura, selecciona una de dos opciones de ejecución, se ejecuta un bloque si la condición se cumple o se ejecuta otro bloque si la condición no se cumple(else)\n",
        "\n",
        "\n",
        "```\n",
        "if <condicion> : \n",
        "    <bloque de ejecución>\n",
        "else: \n",
        "    <bloque de ejecución alterno>"
      ]
    },
    {
      "cell_type": "code",
      "metadata": {
        "id": "PaKQ_tz5Hllb",
        "outputId": "80c3bc23-f80b-4865-9124-016a66fece90",
        "colab": {
          "base_uri": "https://localhost:8080/"
        }
      },
      "source": [
        "edad= int(input(\"Dame tu edad:\"))\n",
        "print(f\"Tecleaste {edad} años\")\n",
        "if edad >=18:\n",
        "    print(\"Eres mayor de edad, ten tu miche\")\n",
        "else:\n",
        "    print(\"Eres menor de edad, ten tu Boing de mango\")\n",
        "print(\"fin del programa\")"
      ],
      "execution_count": 5,
      "outputs": [
        {
          "output_type": "stream",
          "name": "stdout",
          "text": [
            "Dame tu edad:15\n",
            "Tecleaste 15 años\n",
            "Eres menor de edad, ten tu Boing de mango\n",
            "fin del programa\n"
          ]
        }
      ]
    },
    {
      "cell_type": "code",
      "metadata": {
        "id": "YT3sRZN9JK_E",
        "outputId": "727de6b9-678f-46b3-a110-f4c45fdfa201",
        "colab": {
          "base_uri": "https://localhost:8080/"
        }
      },
      "source": [
        "edad= int(input(\"Dame tu edad:\"))\n",
        "dinero= float(input(\"Cuanto dinero tienes:\"))\n",
        "print(f\"Tecleaste {edad} años\")\n",
        "print(f\"Tecleaste {dinero} pesos\")\n",
        "if edad >=18 and dinero>=36:\n",
        "    print(\"Eres mayor de edad, ten tu miche\")\n",
        "else:\n",
        "    print(\"Eres menor de edad, ten tu Boing de mango\")\n",
        "print(\"fin del programa\")"
      ],
      "execution_count": 7,
      "outputs": [
        {
          "output_type": "stream",
          "name": "stdout",
          "text": [
            "Dame tu edad:12\n",
            "Cuanto dinero tienes:45\n",
            "Tecleaste 12 años\n",
            "Tecleaste 45.0 pesos\n",
            "Eres menor de edad, ten tu Boing de mango\n",
            "fin del programa\n"
          ]
        }
      ]
    },
    {
      "cell_type": "code",
      "metadata": {
        "id": "l3Ikl_xKKSR-",
        "outputId": "d1e4daba-6b4e-4ed0-fec0-ae9698e7f3f9",
        "colab": {
          "base_uri": "https://localhost:8080/"
        }
      },
      "source": [
        "edad = int (input(\"Dame tu edad:\"))\n",
        "dinero = float (input(\"¿Cuánto dinero tienes?\"))\n",
        "if edad >= 18:\n",
        "    if dinero >=35:\n",
        "        print(\"Eres mayor de edad y tienes dinero, ten tu cheve\")\n",
        "    else:\n",
        "        print(\"No tienes suficiente dinero\")\n",
        "else:\n",
        "    print(\"Eres menor de edad, ten tu Boing\")\n",
        "print(\"Fin del programa\")"
      ],
      "execution_count": 11,
      "outputs": [
        {
          "output_type": "stream",
          "name": "stdout",
          "text": [
            "Dame tu edad:22\n",
            "¿Cuánto dinero tienes?45\n",
            "Eres mayor de edad y tienes dinero, ten tu cheve\n",
            "Fin del programa\n"
          ]
        }
      ]
    },
    {
      "cell_type": "markdown",
      "metadata": {
        "id": "cxO-XqUPMrju"
      },
      "source": [
        "elif para simplificar el programa de if else\n"
      ]
    },
    {
      "cell_type": "code",
      "metadata": {
        "id": "Qk9uQBQ6NA1j",
        "outputId": "8e9e24a1-0130-4443-9749-8cb2742f8c08",
        "colab": {
          "base_uri": "https://localhost:8080/"
        }
      },
      "source": [
        "edad = int(input(\"Dame tu edad: \"))\n",
        "dinero = float(input(\"Cuanto dinero tienes: \"))\n",
        "print(f\"Tecleaste {edad} años\")\n",
        "print(f\"Tecleaste {dinero} dinero\")\n",
        "if edad >= 18 :\n",
        "    if dinero >=36 :\n",
        "        print(\"Ten tu cheve\")\n",
        "    else:\n",
        "        print(\"tienes la edad pero no tienes dinero suficiente\")\n",
        "elif dinero >= 36 :\n",
        "    print(\"Tienes dinero suficiente pero no tienes la edad\")\n",
        "else:\n",
        "    print(\"No tienes la edad ni el dinero, ve a jugar roblox a tu casa\")"
      ],
      "execution_count": 12,
      "outputs": [
        {
          "output_type": "stream",
          "name": "stdout",
          "text": [
            "Dame tu edad: 12\n",
            "Cuanto dinero tienes: 45\n",
            "Tecleaste 12 años\n",
            "Tecleaste 45.0 dinero\n",
            "Tienes dinero suficiente pero no tienes la edad\n"
          ]
        }
      ]
    },
    {
      "cell_type": "code",
      "metadata": {
        "id": "TptMtHZ_Owdm",
        "outputId": "718e0677-b515-4c72-c9db-d8ef363936d8",
        "colab": {
          "base_uri": "https://localhost:8080/"
        }
      },
      "source": [
        "CAL= float(input(\"Escribe tu calificiación: \"))\n",
        "if CAL >= 8 :\n",
        "    print(\"Aprobado\")\n",
        "else: \n",
        "    print(\"Reprobado\")"
      ],
      "execution_count": 15,
      "outputs": [
        {
          "output_type": "stream",
          "name": "stdout",
          "text": [
            "Escribe tu calificiación: 8\n",
            "Aprobado\n"
          ]
        }
      ]
    },
    {
      "cell_type": "code",
      "metadata": {
        "id": "KZAjtIIGPE7O",
        "outputId": "b9aaa831-51bc-481e-c70f-b4dc940b4a5f",
        "colab": {
          "base_uri": "https://localhost:8080/"
        }
      },
      "source": [
        "SUE = float(input(\"Escribe el sueldo: \"))\n",
        "AUM = 0 \n",
        "NSUE = 0\n",
        "\n",
        "if SUE < 1000 :\n",
        "    AUM = SUE* 0.15\n",
        "    NSUE = SUE + AUM\n",
        "    print(NSUE)\n",
        "else:\n",
        "    AUM= SUE*0.12\n",
        "    NSUE = SUE + AUM\n",
        "    print(NSUE)"
      ],
      "execution_count": 22,
      "outputs": [
        {
          "output_type": "stream",
          "name": "stdout",
          "text": [
            "Escribe el sueldo: 1000\n",
            "1150.0\n"
          ]
        }
      ]
    },
    {
      "cell_type": "markdown",
      "metadata": {
        "id": "DJSahVGTSFEX"
      },
      "source": [
        "# ejercicio if-else\n",
        "### hacer un programa que solicite el día de la semana en un valor numerico del 1 al 7 (Avisarle al usuario si proporciono un valor fuera del rango)\n",
        "\n",
        "### Posteriormente imprimirá el dia de la semana correspondiente al numero capturado\n",
        "\n",
        "1. lunes\n",
        "2. martes \n",
        "...\n",
        "7. domingo "
      ]
    },
    {
      "cell_type": "code",
      "metadata": {
        "id": "ba_nmoN5SCnB",
        "outputId": "dec62bc2-b70f-46c8-c731-364b442661f7",
        "colab": {
          "base_uri": "https://localhost:8080/",
          "height": 129
        }
      },
      "source": [
        "dia=int(input(\"Dame el numero del día de la semana.\"))\n",
        "if 1=lunes and 2=martes and 3=miercoles and \n",
        "    4=jueves and 5=viernes and 6=sabado and 7=domingo\n",
        "    print(\"Hoy es:\")\n",
        "else: \n",
        "    print(\"Número erroneo\")\n",
        "print(\"fin del programa\")"
      ],
      "execution_count": 27,
      "outputs": [
        {
          "output_type": "error",
          "ename": "SyntaxError",
          "evalue": "ignored",
          "traceback": [
            "\u001b[0;36m  File \u001b[0;32m\"<ipython-input-27-b65af5dfb647>\"\u001b[0;36m, line \u001b[0;32m2\u001b[0m\n\u001b[0;31m    if 1=lunes and 2=martes and 3=miercoles and\u001b[0m\n\u001b[0m        ^\u001b[0m\n\u001b[0;31mSyntaxError\u001b[0m\u001b[0;31m:\u001b[0m invalid syntax\n"
          ]
        }
      ]
    },
    {
      "cell_type": "code",
      "metadata": {
        "id": "59I2nJq3Tuwg",
        "outputId": "e5173ec4-9bb6-4699-ee94-57fd9e2d7d5a",
        "colab": {
          "base_uri": "https://localhost:8080/"
        }
      },
      "source": [
        "dia=int(input(\"Dame el día de la semana del 1-7: \"))\n",
        "if dia is 1:\n",
        "    print(\"LUNES\")\n",
        "elif dia is 2:\n",
        "    print(\"MARTES\")\n",
        "elif dia is 3:\n",
        "    print(\"MIERCOLES\")\n",
        "elif dia is 4:\n",
        "    print(\"JUEVES\")\n",
        "elif dia is 5:\n",
        "    print(\"VIERNES\")\n",
        "elif dia is 6:\n",
        "    print(\"SÁBADO\")\n",
        "elif dia is 7:\n",
        "    print(\"DOMINGO\")\n",
        "else:\n",
        "    print(\"Debe ser un numero del 1 al 7, ingresa nuevamente\")"
      ],
      "execution_count": 29,
      "outputs": [
        {
          "output_type": "stream",
          "name": "stdout",
          "text": [
            "Dame el día de la semana del 1-7: -7\n",
            "Debe ser un numero del 1 al 7, ingresa nuevamente\n"
          ]
        }
      ]
    },
    {
      "cell_type": "code",
      "metadata": {
        "id": "Jk_h2EXUV4ne",
        "outputId": "1d837235-e150-4d1a-a8e4-a459a4ccb86a",
        "colab": {
          "base_uri": "https://localhost:8080/"
        }
      },
      "source": [
        "dia= int(input(\"Ingresa un numero entre 1 y 7:\"))\n",
        "print(f\"capturaste el numero {dia}\")\n",
        "\n",
        "if dia >=1 and dia <=7:\n",
        "    if dia == 1:\n",
        "        print(\"Lunes\")\n",
        "    else:\n",
        "        if dia == 2:\n",
        "            print(\"Martes\")\n",
        "        else:\n",
        "            if dia == 3:\n",
        "                print(\"Miercoles\")\n",
        "            else:\n",
        "                if dia == 4:\n",
        "                    print(\"Jueves\")\n",
        "                else:\n",
        "                    if dia == 5:\n",
        "                        print(\"Viernes\")\n",
        "                    else:\n",
        "                        if dia == 6:\n",
        "                            print(\"Sábado\")\n",
        "                        else:\n",
        "                            print(\"Domingo\")\n",
        "\n",
        "else:\n",
        "    print(\"Ese numero no esta dentro del rango\")"
      ],
      "execution_count": 31,
      "outputs": [
        {
          "output_type": "stream",
          "name": "stdout",
          "text": [
            "Ingresa un numero entre 1 y 7:7\n",
            "capturaste el numero 7\n",
            "Domingo\n"
          ]
        }
      ]
    },
    {
      "cell_type": "code",
      "metadata": {
        "id": "Kiny8a7HYuOb"
      },
      "source": [
        "# hacer un programa que pida dos numeros enteros y que imprima en pantalla lo siguiente\n",
        "\n",
        "1. cual de ellos es el numero mayor\n",
        "2. cual de ellos es el numero menor\n",
        " o en su defecto\n",
        " Imprimir que los valores son iguales \n",
        "\n",
        " # Hacer un programa que solicite 3 numeros enteros diferentes entre sí y que imprima cual de los 3 es el mayor\n",
        "\n",
        "\n",
        "# Hacer un programa que solicite 3 numeros enteros diferentes entre sí y que imprima cual de los 3 es el menor\n",
        "\n",
        "#Hacer un programa que solicite 4 numeros enteros diferentes entre sí e imprima a la salida cual de ellos es el menor y cual de ellos es el mayor \n"
      ],
      "execution_count": null,
      "outputs": []
    },
    {
      "cell_type": "markdown",
      "metadata": {
        "id": "qT86KUKua-zO"
      },
      "source": [
        "# Selección múltiple  (switch)\n",
        "En python no existe la estructura de selección switch, en su lugar se emplea la palabra reservada:\n",
        "\n",
        "### elif <condición>:\n",
        "\n",
        "Por ejemplo en el lenguaje C y Java "
      ]
    },
    {
      "cell_type": "code",
      "metadata": {
        "id": "Te9Vwou7cQmd",
        "outputId": "782356b2-2dfe-4895-adc0-9ea20b91577b",
        "colab": {
          "base_uri": "https://localhost:8080/"
        }
      },
      "source": [
        "# ejemplo 2.7\n",
        "\n",
        "NUM= int(input(\"Dame un numero entre 1 y 3:\"))\n",
        "V= float(input(\"Dame un valor float:\"))\n",
        "\n",
        "if NUM == 1:\n",
        "    VAL=100*V\n",
        "elif NUM == 2:\n",
        "    VAL=100**V\n",
        "elif NUM == 3:\n",
        "    VAL=100/V\n",
        "else:\n",
        "    VAL = 0\n",
        "\n",
        "print(VAL)"
      ],
      "execution_count": 35,
      "outputs": [
        {
          "output_type": "stream",
          "name": "stdout",
          "text": [
            "Dame un numero entre 1 y 3:1\n",
            "Dame un valor float:5\n",
            "500.0\n"
          ]
        }
      ]
    }
  ]
}