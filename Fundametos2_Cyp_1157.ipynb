{
  "nbformat": 4,
  "nbformat_minor": 0,
  "metadata": {
    "colab": {
      "name": "Fundametos2_Cyp_1157.ipynb",
      "provenance": [],
      "authorship_tag": "ABX9TyP4ayHN2Q42+8ykY16L3LKS",
      "include_colab_link": true
    },
    "kernelspec": {
      "name": "python3",
      "display_name": "Python 3"
    },
    "language_info": {
      "name": "python"
    }
  },
  "cells": [
    {
      "cell_type": "markdown",
      "metadata": {
        "id": "view-in-github",
        "colab_type": "text"
      },
      "source": [
        "<a href=\"https://colab.research.google.com/github/IrvingRE/CompYProg2022G1157/blob/main/Fundametos2_Cyp_1157.ipynb\" target=\"_parent\"><img src=\"https://colab.research.google.com/assets/colab-badge.svg\" alt=\"Open In Colab\"/></a>"
      ]
    },
    {
      "cell_type": "markdown",
      "metadata": {
        "id": "yPp5a_5TFdEU"
      },
      "source": [
        "# Tipos de datos estructurados de python\n",
        "\n",
        "1. Listas\n",
        "2. Tuplas\n",
        "3. Diccionarios\n",
        "4. Conjuntos(opcional)\n",
        "\n",
        "\n"
      ]
    },
    {
      "cell_type": "markdown",
      "metadata": {
        "id": "NaJuxqLFFsLQ"
      },
      "source": [
        "# Listas\n",
        "\n",
        "- Tipo de dato que agrupa variables o valores. \n",
        "- Estructura secuencial (indexados empezando por 0)\n",
        "- Se declara de dos formas#\n",
        "    - usando [  ]\n",
        "    - usando list()\n",
        "    - usando un generador\n",
        "- Puede contener tipos de dato diversos (En otros lenguajes de programación eso no es posible de forma directa)\n",
        "- Los elementos internos se seleccionan con [ ]\n",
        "- Soporta slicing \n",
        "- GENERADOS [var for x in range(10)]\n",
        "- SON MUTABLES\n",
        "- al ser una clase contiene muchos métodos útiles\n"
      ]
    },
    {
      "cell_type": "code",
      "metadata": {
        "colab": {
          "base_uri": "https://localhost:8080/"
        },
        "id": "OSRLOXrVGeVu",
        "outputId": "b8a5a3ca-c742-42f5-a162-7eb4430d7dcc"
      },
      "source": [
        "numeros= [10, 5, 2, 3 , 1]\n",
        "print(numeros)\n",
        "\n",
        "numeros2= list()\n",
        "numeros2.append(10)\n",
        "numeros2.append(5)\n",
        "numeros2.append(2)\n",
        "numeros2.append(3)\n",
        "numeros2.append(1)\n",
        "print(numeros2)\n",
        "print(numeros)\n",
        "numeros[2]=33\n",
        "print(numeros)"
      ],
      "execution_count": null,
      "outputs": [
        {
          "output_type": "stream",
          "name": "stdout",
          "text": [
            "[10, 5, 2, 3, 1]\n",
            "[10, 5, 2, 3, 1]\n",
            "[10, 5, 2, 3, 1]\n",
            "[10, 5, 33, 3, 1]\n"
          ]
        }
      ]
    },
    {
      "cell_type": "code",
      "metadata": {
        "colab": {
          "base_uri": "https://localhost:8080/"
        },
        "id": "wKnrpmiBIipR",
        "outputId": "2838773e-9c9c-4494-e449-03aece855305"
      },
      "source": [
        "#tipos diversos\n",
        "\n",
        "cosas= [12, 2, True, \"Irving\", 1.63, [\"pera\", \"kiwi\" ,\"uva\"]]\n",
        "print(cosas)\n",
        "print(cosas[1])\n",
        "print(cosas[4])\n",
        "print(cosas[5])\n",
        "print(cosas[5][1])\n",
        "print(cosas[3][1:3:])\n",
        "cosas[3]= cosas[3].upper()\n",
        "print(cosas)"
      ],
      "execution_count": null,
      "outputs": [
        {
          "output_type": "stream",
          "name": "stdout",
          "text": [
            "[12, 2, True, 'Irving', 1.63, ['pera', 'kiwi', 'uva']]\n",
            "2\n",
            "1.63\n",
            "['pera', 'kiwi', 'uva']\n",
            "kiwi\n",
            "rv\n",
            "[12, 2, True, 'IRVING', 1.63, ['pera', 'kiwi', 'uva']]\n"
          ]
        }
      ]
    },
    {
      "cell_type": "code",
      "metadata": {
        "colab": {
          "base_uri": "https://localhost:8080/"
        },
        "id": "rcmR4ESTL2c9",
        "outputId": "9ab9903a-fa79-4e1b-9467-9def33b1f652"
      },
      "source": [
        "numeros=[1,2,3,4,5,6,7,8,9,10,11]\n",
        "print(numeros)\n",
        "#slicing\n",
        "#1.- 4 al 8???\n",
        "print(numeros[3:8])\n",
        "\n",
        "#2.-  [9,10]\n",
        "print(numeros[-3:-1:])\n",
        "#3.- imprimir la lista en orden inverso\n",
        "print(numeros[::-1])"
      ],
      "execution_count": null,
      "outputs": [
        {
          "output_type": "stream",
          "name": "stdout",
          "text": [
            "[1, 2, 3, 4, 5, 6, 7, 8, 9, 10, 11]\n",
            "[4, 5, 6, 7, 8]\n",
            "[9, 10]\n",
            "[11, 10, 9, 8, 7, 6, 5, 4, 3, 2, 1]\n"
          ]
        }
      ]
    },
    {
      "cell_type": "code",
      "metadata": {
        "colab": {
          "base_uri": "https://localhost:8080/"
        },
        "id": "6BQL1UP7PoZd",
        "outputId": "f0f68ec8-03b4-4897-f7cd-0aab836bc39b"
      },
      "source": [
        "#Crear una lista con un generador\n",
        "numeros= [x*3 for x in range(101) ]\n",
        "print(numeros)\n"
      ],
      "execution_count": null,
      "outputs": [
        {
          "output_type": "stream",
          "name": "stdout",
          "text": [
            "[0, 3, 6, 9, 12, 15, 18, 21, 24, 27, 30, 33, 36, 39, 42, 45, 48, 51, 54, 57, 60, 63, 66, 69, 72, 75, 78, 81, 84, 87, 90, 93, 96, 99, 102, 105, 108, 111, 114, 117, 120, 123, 126, 129, 132, 135, 138, 141, 144, 147, 150, 153, 156, 159, 162, 165, 168, 171, 174, 177, 180, 183, 186, 189, 192, 195, 198, 201, 204, 207, 210, 213, 216, 219, 222, 225, 228, 231, 234, 237, 240, 243, 246, 249, 252, 255, 258, 261, 264, 267, 270, 273, 276, 279, 282, 285, 288, 291, 294, 297, 300]\n"
          ]
        }
      ]
    },
    {
      "cell_type": "markdown",
      "metadata": {
        "id": "MBW-65V5QZdr"
      },
      "source": [
        "# función range()\n",
        "\n",
        "Tiene los mismos componentes que sñicing\n",
        "inicio, stop , incremento\n",
        "\n",
        "range(1,101,1)"
      ]
    },
    {
      "cell_type": "code",
      "metadata": {
        "colab": {
          "base_uri": "https://localhost:8080/"
        },
        "id": "wPx-fY5XQt2T",
        "outputId": "e7383d74-ecd4-41da-9be5-1d1fb7c35e54"
      },
      "source": [
        "numeros= [x for x in range(50, 101, 5) ]\n",
        "print(numeros)"
      ],
      "execution_count": null,
      "outputs": [
        {
          "output_type": "stream",
          "name": "stdout",
          "text": [
            "[50, 55, 60, 65, 70, 75, 80, 85, 90, 95, 100]\n"
          ]
        }
      ]
    },
    {
      "cell_type": "markdown",
      "metadata": {
        "id": "n1_pp3AORMGh"
      },
      "source": [
        "# Metodos disponibles de las listas"
      ]
    },
    {
      "cell_type": "code",
      "metadata": {
        "colab": {
          "base_uri": "https://localhost:8080/"
        },
        "id": "E1GKSfJtRQJs",
        "outputId": "e84c9bd8-5b66-4445-ff3e-dbf49d4734ef"
      },
      "source": [
        "dir(list)"
      ],
      "execution_count": null,
      "outputs": [
        {
          "output_type": "execute_result",
          "data": {
            "text/plain": [
              "['__add__',\n",
              " '__class__',\n",
              " '__contains__',\n",
              " '__delattr__',\n",
              " '__delitem__',\n",
              " '__dir__',\n",
              " '__doc__',\n",
              " '__eq__',\n",
              " '__format__',\n",
              " '__ge__',\n",
              " '__getattribute__',\n",
              " '__getitem__',\n",
              " '__gt__',\n",
              " '__hash__',\n",
              " '__iadd__',\n",
              " '__imul__',\n",
              " '__init__',\n",
              " '__init_subclass__',\n",
              " '__iter__',\n",
              " '__le__',\n",
              " '__len__',\n",
              " '__lt__',\n",
              " '__mul__',\n",
              " '__ne__',\n",
              " '__new__',\n",
              " '__reduce__',\n",
              " '__reduce_ex__',\n",
              " '__repr__',\n",
              " '__reversed__',\n",
              " '__rmul__',\n",
              " '__setattr__',\n",
              " '__setitem__',\n",
              " '__sizeof__',\n",
              " '__str__',\n",
              " '__subclasshook__',\n",
              " 'append',\n",
              " 'clear',\n",
              " 'copy',\n",
              " 'count',\n",
              " 'extend',\n",
              " 'index',\n",
              " 'insert',\n",
              " 'pop',\n",
              " 'remove',\n",
              " 'reverse',\n",
              " 'sort']"
            ]
          },
          "metadata": {},
          "execution_count": 34
        }
      ]
    },
    {
      "cell_type": "code",
      "metadata": {
        "colab": {
          "base_uri": "https://localhost:8080/"
        },
        "id": "Fm-SCqUqScyG",
        "outputId": "06154e71-0bf4-4eca-ea83-9ffe8762db87"
      },
      "source": [
        "numeros= [4,1,14,8,22,34,50 ]\n",
        "print(numeros)\n",
        "numeros.append(99)\n",
        "print(numeros)\n",
        "numeros.clear()\n",
        "print(numeros)\n",
        "#alternativa \n",
        "numeros= [4,1,14,8,22,34,50 ]\n",
        "print(numeros)\n",
        "numeros=[]\n",
        "print(numeros)\n",
        "\n",
        "frutas=[\"uvas\",\"kiwi\",\"manzana\"]\n",
        "copia=frutas\n",
        "print(frutas)\n",
        "print(copia)\n",
        "frutas.append(\"Naranja\")\n",
        "print(frutas)\n",
        "print(copia)\n",
        "\n",
        "colores=[\"rojo\",\"azul\", \"blanco\"]\n",
        "copia2=colores.copy()\n",
        "print(colores)\n",
        "print(copia2)\n",
        "colores.append(\"verde\")\n",
        "print(colores)\n",
        "print(copia2)\n",
        "\n",
        "#COUNT\n",
        "numeros=numeros= [4,1,14,8,22,34,50,15 ]\n",
        "print(\"Numero de veces que aparece el 15=\", numeros.count(15))\n",
        "\n",
        "#extend\n",
        "\n",
        "nombres=[\"jose\", \"pedro\", \"karina\"]\n",
        "otrosnombres=[\"josue\", \"diana\", \"dalia\"]\n",
        "\n",
        "print(nombres)\n",
        "print(otrosnombres)\n",
        "nombres= nombres+ otrosnombres\n",
        "print(nombres)\n",
        "print(otrosnombres)\n",
        "\n",
        "#lo mismo con el método extend\n",
        "otrosnombres.extend([\"Jesus\", \"Maria\", \"Jose\"])\n",
        "print(otrosnombres)\n",
        "\n",
        "#index\n",
        "print(\"Jesus esta en la posicion:\", otrosnombres.index(\"Jesus\"))\n",
        "\n",
        "#insert\n",
        "otrosnombres.insert(4, \"Espiritu santo\")\n",
        "print(otrosnombres)\n",
        "\n",
        "#pop\n",
        "resultado= otrosnombres.pop()\n",
        "print(otrosnombres)\n",
        "print(resultado)"
      ],
      "execution_count": null,
      "outputs": [
        {
          "output_type": "stream",
          "name": "stdout",
          "text": [
            "[4, 1, 14, 8, 22, 34, 50]\n",
            "[4, 1, 14, 8, 22, 34, 50, 99]\n",
            "[]\n",
            "[4, 1, 14, 8, 22, 34, 50]\n",
            "[]\n",
            "['uvas', 'kiwi', 'manzana']\n",
            "['uvas', 'kiwi', 'manzana']\n",
            "['uvas', 'kiwi', 'manzana', 'Naranja']\n",
            "['uvas', 'kiwi', 'manzana', 'Naranja']\n",
            "['rojo', 'azul', 'blanco']\n",
            "['rojo', 'azul', 'blanco']\n",
            "['rojo', 'azul', 'blanco', 'verde']\n",
            "['rojo', 'azul', 'blanco']\n",
            "Numero de veces que aparece el 15= 1\n",
            "['jose', 'pedro', 'karina']\n",
            "['josue', 'diana', 'dalia']\n",
            "['jose', 'pedro', 'karina', 'josue', 'diana', 'dalia']\n",
            "['josue', 'diana', 'dalia']\n",
            "['josue', 'diana', 'dalia', 'Jesus', 'Maria', 'Jose']\n",
            "Jesus esta en la posicion: 3\n",
            "['josue', 'diana', 'dalia', 'Jesus', 'Espiritu santo', 'Maria', 'Jose']\n",
            "['josue', 'diana', 'dalia', 'Jesus', 'Espiritu santo', 'Maria']\n",
            "Jose\n"
          ]
        }
      ]
    },
    {
      "cell_type": "markdown",
      "metadata": {
        "id": "VeCboVq7v0eE"
      },
      "source": [
        "# Tuplas \n",
        "\n",
        "### Características de las tuplas \n",
        "\n",
        "- Son datos agrupados \n",
        "- Se declara usando#\n",
        "      \n",
        "- Es una estructura secuencial, indexada a partir de 0.\n",
        "- Pueden tener de 0 a n elementos \n",
        "- NO SON MUTABLES(no se puede eliminar y/o cambiar) \n",
        "- Son buenas para almacenar información de consulta.\n",
        "- Pueden almacenar información de diferentes tipo de dato.\n",
        "- Pueden estar anidadas.\n",
        "- Tienen métodos útiles. \n"
      ]
    },
    {
      "cell_type": "code",
      "metadata": {
        "id": "sQ07Gu0Sw0XI",
        "outputId": "39dfb946-6d0d-4a9f-893b-b421eb1f1b89",
        "colab": {
          "base_uri": "https://localhost:8080/"
        }
      },
      "source": [
        "info= (\"juan23\" , \"dios1234\" , \"123.232.1.12\")\n",
        "print(info)\n",
        "print(info[1])\n",
        "#info[1]= \"patito23\"\n",
        "\n",
        "numeros=(0,1,2,3,4,5,6,7,8,9,10,11,12,13,14,15)\n",
        "print(numeros)\n",
        "\n",
        "cosas=(info, numeros)\n",
        "print(cosas)\n",
        "print(cosas[1][5:11:1])\n",
        "print(cosas[0][2][4:7])\n",
        "print(cosas[0][2][-8:-5])\n"
      ],
      "execution_count": 3,
      "outputs": [
        {
          "output_type": "stream",
          "name": "stdout",
          "text": [
            "('juan23', 'dios1234', '123.232.1.12')\n",
            "dios1234\n",
            "(0, 1, 2, 3, 4, 5, 6, 7, 8, 9, 10, 11, 12, 13, 14, 15)\n",
            "(('juan23', 'dios1234', '123.232.1.12'), (0, 1, 2, 3, 4, 5, 6, 7, 8, 9, 10, 11, 12, 13, 14, 15))\n",
            "(5, 6, 7, 8, 9, 10)\n",
            "232\n",
            "232\n"
          ]
        }
      ]
    },
    {
      "cell_type": "markdown",
      "metadata": {
        "id": "U4chKOr10nxr"
      },
      "source": [
        "# Métodos de las tuplas\n",
        "Son los mismos de las listas pero los que no involucren mutabilidad.\n"
      ]
    },
    {
      "cell_type": "code",
      "metadata": {
        "id": "f_SF4mOg0x8A",
        "outputId": "1e8a58c8-2499-4803-ec00-5eba35ccdd72",
        "colab": {
          "base_uri": "https://localhost:8080/"
        }
      },
      "source": [
        "dir(tuple)"
      ],
      "execution_count": 4,
      "outputs": [
        {
          "output_type": "execute_result",
          "data": {
            "text/plain": [
              "['__add__',\n",
              " '__class__',\n",
              " '__contains__',\n",
              " '__delattr__',\n",
              " '__dir__',\n",
              " '__doc__',\n",
              " '__eq__',\n",
              " '__format__',\n",
              " '__ge__',\n",
              " '__getattribute__',\n",
              " '__getitem__',\n",
              " '__getnewargs__',\n",
              " '__gt__',\n",
              " '__hash__',\n",
              " '__init__',\n",
              " '__init_subclass__',\n",
              " '__iter__',\n",
              " '__le__',\n",
              " '__len__',\n",
              " '__lt__',\n",
              " '__mul__',\n",
              " '__ne__',\n",
              " '__new__',\n",
              " '__reduce__',\n",
              " '__reduce_ex__',\n",
              " '__repr__',\n",
              " '__rmul__',\n",
              " '__setattr__',\n",
              " '__sizeof__',\n",
              " '__str__',\n",
              " '__subclasshook__',\n",
              " 'count',\n",
              " 'index']"
            ]
          },
          "metadata": {},
          "execution_count": 4
        }
      ]
    },
    {
      "cell_type": "markdown",
      "metadata": {
        "id": "igCaJDcq23m4"
      },
      "source": [
        "# Diccionarios \n",
        "\n",
        "### Características de los diccionarios \n",
        "\n",
        "- Agrupan datos de forma no líneal.\n",
        "- Se declaran con#\n",
        "         - {}\n",
        "         - dict()\n",
        "\n",
        "- Formado por paras de tipo llave:valor\n",
        "         - llave es de tipo string(SIEMPRE)\n",
        "         - valor puede ser de cualquier tipo de dato, incluyendo los diccionarios.\n",
        "- Se seleccionan con la llave de la forma: [\"id_llave\"]\n",
        "- SON MUTABLES.\n",
        "- Son anidables.\n",
        "- Son equivalentes al tipo de dato JSON del lenguaje JavaScript (JS)\n"
      ]
    },
    {
      "cell_type": "code",
      "metadata": {
        "id": "DWB0_M5C4zpW",
        "outputId": "c08d9861-919c-4d05-e5b5-39c03a57408c",
        "colab": {
          "base_uri": "https://localhost:8080/"
        }
      },
      "source": [
        "alumno= {\"nombre\" : \"José\"}\n",
        "print(alumno)\n",
        "print(alumno[\"nombre\"])\n",
        "alumno={\"nombre\" : \"José\" , \"nc\":\"2129229292\" , \"edad\":18 }\n",
        "print(\"Edad del alumno:\" , alumno[\"edad\"])\n",
        "print(alumno[\"nombre\"].upper())\n",
        "\n",
        "alumno2= dict()  #{}\n",
        "alumno2[\"nombre\"]=\"José\"\n",
        "print(alumno2)\n",
        "alumno2[\"nc\"]= \"2129229292\"\n",
        "alumno2[\"edad\"]= 18\n",
        "print(alumno2)\n",
        "alumno2[\"edad\"]= alumno2[\"edad\"] + 1\n",
        "print(alumno2)"
      ],
      "execution_count": 17,
      "outputs": [
        {
          "output_type": "stream",
          "name": "stdout",
          "text": [
            "{'nombre': 'José'}\n",
            "José\n",
            "Edad del alumno: 18\n",
            "JOSÉ\n",
            "{'nombre': 'José'}\n",
            "{'nombre': 'José', 'nc': '2129229292', 'edad': 18}\n",
            "{'nombre': 'José', 'nc': '2129229292', 'edad': 19}\n"
          ]
        }
      ]
    },
    {
      "cell_type": "code",
      "metadata": {
        "id": "wShIbCuL8P8p",
        "outputId": "54ec4093-3aca-4065-e236-3292af22bcaa",
        "colab": {
          "base_uri": "https://localhost:8080/"
        }
      },
      "source": [
        "cliente= {\"id\":\"CT2121\" ,\n",
        "          \"nombre\":\"José Pedroza Rosales\" ,\n",
        "          \"telefonos\": \"casa=554456565 cel=0445567767\"}\n",
        "print(cliente)\n",
        "cliente= {\"id\":\"CT2121\" ,\n",
        "          \"nombre\": {\n",
        "              \"nombres\" : [\"José\"],\n",
        "              \"paterno\" : \"Pedroza\",\n",
        "              \"materno\" : \"Rosales\"  \n",
        "          },\n",
        "          \"telefonos\":{ \n",
        "              \"casa\": \"554456565\" , \n",
        "              \"trabajo\": \"554433232\" ,\n",
        "              \"celular\": \"0445567767\" \n",
        "          },\n",
        "          \"productos\":{\n",
        "                  \"ahorro\":{\"numero_cuenta\":\"7788\" , \"ahorro\": 2500.5},\n",
        "                  \"tarjetas\":[\n",
        "                                {\"tipo\":\"debito\" , \"saldo\" : 10000.5 },\n",
        "                                {\"tipo\":\"credito preferente\", \"limite\":250000.5},\n",
        "                                {\"tipo\":\"lite\",\"limite\": 15000.5}   \n",
        "                  ]\n",
        "                      },\n",
        "\"dirección\":{\n",
        "    \"calle\":\"Av. central\",\n",
        "    \"numero\": 1245,\n",
        "    \"colonia\": \"Impulsora\",\n",
        "    \"delegación\": \"neza\",\n",
        "    \"estado\":{\n",
        "                \"clave\":15,\n",
        "                \"nombre_corto\":\"EdoMex\",\n",
        "                \"nombre\": \"Estado de México\"\n",
        "\n",
        "    }\n",
        "}\n",
        "            \n",
        "          }\n",
        "          \n",
        "print(cliente[\"telefonos\"][\"casa\"])\n",
        "print(cliente[\"productos\"][\"ahorro\"][\"ahorro\"])\n",
        "print( cliente [\"productos\"][\"tarjetas\"][2][\"limite\"])\n",
        "print(cliente[\"dirección\"][\"estado\"][\"nombre\"].upper())"
      ],
      "execution_count": 37,
      "outputs": [
        {
          "output_type": "stream",
          "name": "stdout",
          "text": [
            "{'id': 'CT2121', 'nombre': 'José Pedroza Rosales', 'telefonos': 'casa=554456565 cel=0445567767'}\n",
            "554456565\n",
            "2500.5\n",
            "15000.5\n",
            "ESTADO DE MÉXICO\n"
          ]
        }
      ]
    }
  ]
}