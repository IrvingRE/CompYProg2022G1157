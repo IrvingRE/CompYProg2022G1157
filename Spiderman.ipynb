{
  "nbformat": 4,
  "nbformat_minor": 0,
  "metadata": {
    "colab": {
      "name": "Untitled0.ipynb",
      "provenance": [],
      "authorship_tag": "ABX9TyPpDocy3IkRrLjLiUK1sBLb",
      "include_colab_link": true
    },
    "kernelspec": {
      "name": "python3",
      "display_name": "Python 3"
    },
    "language_info": {
      "name": "python"
    }
  },
  "cells": [
    {
      "cell_type": "markdown",
      "metadata": {
        "id": "view-in-github",
        "colab_type": "text"
      },
      "source": [
        "<a href=\"https://colab.research.google.com/github/IrvingRE/CompYProg2022G1157/blob/main/Spiderman.ipynb\" target=\"_parent\"><img src=\"https://colab.research.google.com/assets/colab-badge.svg\" alt=\"Open In Colab\"/></a>"
      ]
    },
    {
      "cell_type": "code",
      "metadata": {
        "id": "5XmhSFExLsq8"
      },
      "source": [
        "Spiderman={\"nombre\" : \"Piter Parker\",\n",
        "           \"poderes\" : \"Superfuerza, trepar muros, lanzar telarañas, sentido aracnido\",\n",
        "           \"A que se dedica\" : \"Estudiar y ser un heroe\",\n",
        "           \"Con quién vive\" : \"Sus tíos\",\n",
        "           \"nombre de superheroe\": \"Spiderman\"\n",
        "\n",
        "           }\n",
        "print(Spiderman)"
      ],
      "execution_count": null,
      "outputs": []
    }
  ]
}