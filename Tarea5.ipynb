{
  "nbformat": 4,
  "nbformat_minor": 0,
  "metadata": {
    "colab": {
      "name": "Tarea5.ipynb",
      "provenance": [],
      "authorship_tag": "ABX9TyMTsPR/VbkTyO4WK9Gx1Gzm",
      "include_colab_link": true
    },
    "kernelspec": {
      "name": "python3",
      "display_name": "Python 3"
    },
    "language_info": {
      "name": "python"
    }
  },
  "cells": [
    {
      "cell_type": "markdown",
      "metadata": {
        "id": "view-in-github",
        "colab_type": "text"
      },
      "source": [
        "<a href=\"https://colab.research.google.com/github/IrvingRE/CompYProg2022G1157/blob/main/Tarea5.ipynb\" target=\"_parent\"><img src=\"https://colab.research.google.com/assets/colab-badge.svg\" alt=\"Open In Colab\"/></a>"
      ]
    },
    {
      "cell_type": "markdown",
      "metadata": {
        "id": "MrFlXGluQWYX"
      },
      "source": [
        "1. Hacer un programa que\n",
        "pida dos números enteros y que imprima en pantalla lo siguiente:\n",
        "\n",
        "\n",
        "¿Cuál de ellos es el número mayor?\n",
        "¿Cuál de ellos es el número menor?\n",
        "\n",
        "o en su defecto\n",
        "¿Imprimir que los valores son iguales?"
      ]
    },
    {
      "cell_type": "code",
      "metadata": {
        "id": "XfpIJe4sOdWq",
        "colab": {
          "base_uri": "https://localhost:8080/"
        },
        "outputId": "a52dc744-2b68-45a5-92ef-e8136adcebe9"
      },
      "source": [
        "NUM1= int(input(\"Dame un primer numero entero:\"))\n",
        "NUM2= int(input(\"Dame un segundo numero entero:\"))\n",
        "if NUM1>NUM2:\n",
        "    print(f\"{NUM1} es mayor y {NUM2} es menor\")\n",
        "elif NUM1<NUM2:\n",
        "    print(f\"{NUM1} es menor y {NUM2} es mayor\")\n",
        "elif NUM1==NUM2:\n",
        "    print(\"Los valores son iguales\")"
      ],
      "execution_count": 32,
      "outputs": [
        {
          "output_type": "stream",
          "name": "stdout",
          "text": [
            "Dame un primer numero entero:5\n",
            "Dame un segundo numero entero:8\n",
            "5 es menor y 8 es mayor\n"
          ]
        }
      ]
    },
    {
      "cell_type": "markdown",
      "metadata": {
        "id": "5lD3syrBzwPT"
      },
      "source": [
        "2. Hacer un programa que solicite 3 números enteros diferentes entre sí y que imprima cuál de los 3 es el mayor\n"
      ]
    },
    {
      "cell_type": "code",
      "metadata": {
        "colab": {
          "base_uri": "https://localhost:8080/"
        },
        "id": "0ig9iUBDzvp9",
        "outputId": "14ae6af9-0b1b-43b9-c67d-6847927abb36"
      },
      "source": [
        "NUM1= int(input(\"Dame un primer numero entero:\"))\n",
        "NUM2= int(input(\"Dame un segundo numero entero:\"))\n",
        "NUM3= int(input(\"Dame un tercer numero entero:\"))\n",
        "if NUM1==NUM2:\n",
        "    print(\"Se necesitan numeros diferentes entre sí, vuelva a intentarlo\")\n",
        "\n",
        "elif NUM1==NUM3:\n",
        "    print(\"Se necesitan numeros diferentes entre sí, vuelva a intentarlo\")\n",
        "\n",
        "elif NUM2==NUM3:\n",
        "    print(\"Se necesitan numeros diferentes entre sí, vuelva a intentarlo\")\n",
        "\n",
        "elif NUM2==NUM1:\n",
        "    print(\"Se necesitan numeros diferentes entre sí, vuelva a intentarlo\")\n",
        "\n",
        "elif NUM3==NUM1:\n",
        "    print(\"Se necesita numeros diferentes entre sí, vuelva a intentarlo\")\n",
        "\n",
        "elif NUM3==NUM2:\n",
        "    print(\"Se necesita numeros diferentes entre sí, vuelva a intentarlo\")\n",
        "\n",
        "elif NUM1==NUM2==NUM3:\n",
        "    print(\"Se necesitan numeros diferentes entre sí, vuelva a intentarlo\")\n",
        "\n",
        "elif NUM1>NUM2 and NUM1>NUM3:\n",
        "    print(f\"{NUM1} Es el numero mayor\")\n",
        "\n",
        "elif NUM2>NUM1 and NUM2>NUM3:\n",
        "    print(f\"{NUM2} Es el numero mayor\")\n",
        "    \n",
        "elif NUM3>NUM1 and NUM3>NUM2:\n",
        "    print(f\"{NUM3} Es el numero mayor\")"
      ],
      "execution_count": 52,
      "outputs": [
        {
          "output_type": "stream",
          "name": "stdout",
          "text": [
            "Dame un primer numero entero:5\n",
            "Dame un segundo numero entero:4\n",
            "Dame un tercer numero entero:8\n",
            "8 Es el numero mayor\n"
          ]
        }
      ]
    },
    {
      "cell_type": "markdown",
      "metadata": {
        "id": "kXB2tR8zoxQT"
      },
      "source": [
        "3. Hacer un programa que solicite 3 números enteros diferentes entre sí y que imprima cuál de los 3 es el menor"
      ]
    },
    {
      "cell_type": "code",
      "metadata": {
        "colab": {
          "base_uri": "https://localhost:8080/"
        },
        "id": "ZT-tN7-9o9wH",
        "outputId": "4de27939-7b3b-4317-b557-93135416c8b0"
      },
      "source": [
        "NUM1= int(input(\"Dame un primer numero entero:\"))\n",
        "NUM2= int(input(\"Dame un segundo numero entero:\"))\n",
        "NUM3= int(input(\"Dame un tercer numero entero:\"))\n",
        "if NUM1==NUM2:\n",
        "    print(\"Se necesitan numeros diferentes entre sí, vuelva a intentarlo\")\n",
        "\n",
        "elif NUM1==NUM3:\n",
        "    print(\"Se necesitan numeros diferentes entre sí, vuelva a intentarlo\")\n",
        "\n",
        "elif NUM2==NUM3:\n",
        "    print(\"Se necesitan numeros diferentes entre sí, vuelva a intentarlo\")\n",
        "\n",
        "elif NUM2==NUM1:\n",
        "    print(\"Se necesitan numeros diferentes entre sí, vuelva a intentarlo\")\n",
        "\n",
        "elif NUM3==NUM1:\n",
        "    print(\"Se necesita numeros diferentes entre sí, vuelva a intentarlo\")\n",
        "\n",
        "elif NUM3==NUM2:\n",
        "    print(\"Se necesita numeros diferentes entre sí, vuelva a intentarlo\")\n",
        "\n",
        "elif NUM1==NUM2==NUM3:\n",
        "    print(\"Se necesitan numeros diferentes entre sí, vuelva a intentarlo\")\n",
        "\n",
        "elif NUM1<NUM2 and NUM1<NUM3:\n",
        "    print(f\"{NUM1} Es el numero menor\")\n",
        "\n",
        "elif NUM2<NUM1 and NUM2<NUM3:\n",
        "    print(f\"{NUM2} Es el numero menor\")\n",
        "    \n",
        "elif NUM3<NUM1 and NUM3<NUM2:\n",
        "    print(f\"{NUM3} Es el numero menor\")"
      ],
      "execution_count": 3,
      "outputs": [
        {
          "output_type": "stream",
          "name": "stdout",
          "text": [
            "Dame un primer numero entero:5\n",
            "Dame un segundo numero entero:8\n",
            "Dame un tercer numero entero:1\n",
            "1 Es el numero menor\n"
          ]
        }
      ]
    },
    {
      "cell_type": "markdown",
      "metadata": {
        "id": "uq581kEspcMC"
      },
      "source": [
        " 4. Hacer un programa que solicite 4 números enteros diferentes entre sí y que imprima a la salida cuál de ellos es el menor y cuál de ellos es el mayor\n"
      ]
    },
    {
      "cell_type": "code",
      "metadata": {
        "colab": {
          "base_uri": "https://localhost:8080/"
        },
        "id": "lzaL5KbwpjiZ",
        "outputId": "2d22bc4d-d6cd-460f-d2ed-34823e4d46f3"
      },
      "source": [
        "NUM1= int(input(\"Dame un primer numero entero:\"))\n",
        "NUM2= int(input(\"Dame un segundo numero entero:\"))\n",
        "NUM3= int(input(\"Dame un tercer numero entero:\"))\n",
        "NUM4= int(input(\"Dame un cuarto numero entero:\"))\n",
        "if NUM1==NUM2:\n",
        "    print(\"Se necesitan numeros diferentes entre sí, vuelva a intentarlo\")\n",
        "\n",
        "elif NUM1==NUM3:\n",
        "    print(\"Se necesitan numeros diferentes entre sí, vuelva a intentarlo\")\n",
        "\n",
        "elif NUM1==NUM4:\n",
        "    print(\"Se necesitan numeros diferentes entre sí, vuelva a intentarlo\")\n",
        "\n",
        "elif NUM2==NUM1:\n",
        "    print(\"Se necesitan numeros diferentes entre sí, vuelva a intentarlo\")\n",
        "\n",
        "elif NUM2==NUM3:\n",
        "    print(\"Se necesitan numeros diferentes entre sí, vuelva a intentarlo\")\n",
        "\n",
        "elif NUM2==NUM4:\n",
        "    print(\"Se necesitan numeros diferentes entre sí, vuelva a intentarlo\")\n",
        "\n",
        "elif NUM3==NUM1:\n",
        "    print(\"Se necesita numeros diferentes entre sí, vuelva a intentarlo\")\n",
        "\n",
        "elif NUM3==NUM2:\n",
        "    print(\"Se necesita numeros diferentes entre sí, vuelva a intentarlo\")\n",
        "\n",
        "elif NUM3==NUM4:\n",
        "    print(\"Se necesita numeros diferentes entre sí, vuelva a intentarlo\")\n",
        "\n",
        "elif NUM1==NUM2==NUM3==NUM4:\n",
        "    print(\"Se necesitan numeros diferentes entre sí, vuelva a intentarlo\")\n",
        "\n",
        "elif NUM1<NUM2 and NUM1<NUM3 and NUM1<NUM4:\n",
        "    print(f\"{NUM1} Es el numero menor\")\n",
        "\n",
        "elif NUM2<NUM1 and NUM2<NUM3 and NUM2<NUM4:\n",
        "    print(f\"{NUM2} Es el numero menor\")\n",
        "    \n",
        "elif NUM3<NUM1 and NUM3<NUM2 and NUM3<NUM4:\n",
        "    print(f\"{NUM3} Es el numero menor\")\n",
        "\n",
        "elif NUM4<NUM1 and NUM4<NUM2 and NUM4<NUM3:\n",
        "    print(f\"{NUM4} Es el numero menor\")\n",
        "\n",
        "if NUM1>NUM2 and NUM1>NUM3 and NUM1>NUM4:\n",
        "    print(f\"{NUM1} Es el numero mayor\")\n",
        "\n",
        "elif NUM2>NUM1 and NUM2>NUM3 and NUM2>NUM4:\n",
        "    print(f\"{NUM2} Es el numero mayor\")\n",
        "    \n",
        "elif NUM3>NUM1 and NUM3>NUM2 and NUM1>NUM4:\n",
        "    print(f\"{NUM3} Es el numero mayor\")\n",
        "    \n",
        "elif NUM4>NUM1 and NUM4>NUM2 and NUM4>NUM3:\n",
        "    print(f\"{NUM4} Es el numero mayor\")"
      ],
      "execution_count": 26,
      "outputs": [
        {
          "output_type": "stream",
          "name": "stdout",
          "text": [
            "Dame un primer numero entero:8\n",
            "Dame un segundo numero entero:7\n",
            "Dame un tercer numero entero:6\n",
            "Dame un cuarto numero entero:5\n",
            "5 Es el numero menor\n",
            "8 Es el numero mayor\n"
          ]
        }
      ]
    }
  ]
}